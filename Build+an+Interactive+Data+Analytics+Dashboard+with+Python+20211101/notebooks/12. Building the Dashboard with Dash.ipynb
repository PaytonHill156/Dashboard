{
 "cells": [
  {
   "cell_type": "markdown",
   "metadata": {},
   "source": [
    "# Building the Dashboard with Dash\n",
    "\n",
    "We're finally ready to start building our dashboard with Dash, a free and open source Python library created and maintained by the company Plotly. Dash provides many tools to display data visually as well as allow users to interact with it.\n",
    "\n",
    "Dash is built directly on top of Flask, one of the most popular web frameworks for Python, and react.js, an open source JavaScript library originally created by Facebook. Dash directly integrates with the plotly library. It does not make any plots on its own, but is equipped to present any plotly figure within it.\n",
    "\n",
    "## Parts of a Dash application\n",
    "\n",
    "There are two parts of a Dash application:\n",
    "\n",
    "* Layout\n",
    "* Interactivity (Callbacks)\n",
    "\n",
    "### Layout\n",
    "\n",
    "The layout describes the physical components of the application. There are two broad types of layout components - **HTML elements** and **dash components**. The HTML elements are the exact same elements we covered in the previous notebook. We will not be writing HTML directly, but accessing the elements as Python classes from the **dash_html_components** module. \n",
    "\n",
    "The dash components combine together multiple HTML elements, CSS, and JavaScript into a single component. Examples of these include dropdown menus, checklists, tabs, placeholders for plotly figures, and sliders. They are accessed as single Python classes from the **dash_core_components** module. Additionally, there is an entire separate library, **dash_table**, that provides functionality for interactive data tables.\n",
    "\n",
    "### Interactivity (Callbacks)\n",
    "\n",
    "The interactivity is the other part of the application, and is the code that makes changes to the layout components when a particular event occurs. Almost any event that occurs within a dash application can be mapped to some function that changes one of the layout components. These functions that are triggered are named **callbacks.** For example, when a country is clicked in our data table, three graphs are updated to show the clicked country's information.\n",
    "\n",
    "## Beginning a dash application\n",
    "\n",
    "Typically, dash applications are written in a separate file, such as `dashboard.py` in our case. For purposes of instruction, the dashboard will be written in this Jupyter Notebook. When writing real dashboard applications, I strongly recommend beginning them in a normal text file and using an editor such as [Sublime Text][0] or [Visual Studio Code][1]. \n",
    "\n",
    "### Installing JupyterDash\n",
    "\n",
    "Even though this tutorial takes place in a notebook, the code will be virtually identical as it would be in a separate text file. I recommend opening up `dashboard.py` in a separate editor now so that you can reference it during the tutorial. The only difference is that we'll need to install a new library for it to work properly. Plotly released the JupyterDash library to help those develop Dash within a notebook. This library is only needed for the tutorial and not for our production project, so we won't add it to our virtual environment. Install it now using either pip or conda.\n",
    "\n",
    "```bash\n",
    "pip install jupyter-dash==0.4\n",
    "\n",
    "```\n",
    "\n",
    "```bash\n",
    "conda install -c conda-forge -c plotly jupyter-dash=0.4\n",
    "```\n",
    "\n",
    "### Minimal dashboard\n",
    "\n",
    "Your dashboard will need a minimum of three lines of code to run - one to create the application with `JupyterDash`, another to set the `layout` attribute, and lastly, to execute the `run_server` method with `mode` set to `\"inline\"`, so it displays in the notebook. Here, we assign the layout to be a single HTML element, an h2 header and limit the height of the entire dashboard.\n",
    "\n",
    "[0]: https://www.sublimetext.com/\n",
    "[1]: https://code.visualstudio.com/"
   ]
  },
  {
   "cell_type": "code",
   "execution_count": null,
   "metadata": {
    "tags": [
     "1"
    ]
   },
   "outputs": [],
   "source": [
    "from jupyter_dash import JupyterDash\n",
    "import dash_html_components as html\n",
    "\n",
    "app = JupyterDash(__name__)\n",
    "app.layout = html.H2('Coronavirus Forecasting Dashboard')\n",
    "app.run_server(mode='inline', height=100)"
   ]
  },
  {
   "cell_type": "markdown",
   "metadata": {},
   "source": [
    "## HTML elements in dash\n",
    "\n",
    "Nearly all normal HTML elements are available as Python classes after importing `dash_html_components` and aliasing it as `html`. Element names have their first letter capitalized. The first argument for every HTML class in dash is the element's content, formally given the parameter name **children**. The content is often a string for paragraph, header, and anchor elements. Use a list when the content consists of multiple other HTML elements (which is often the case for divs).  \n",
    "\n",
    "Below, we create an anchor element and then place it and the header inside of a div. Dash does not allow you to assign the `layout` attribute to a list of elements. You must set it to a single HTML element, so we are forced to use a div to contain all of the elements."
   ]
  },
  {
   "cell_type": "code",
   "execution_count": null,
   "metadata": {
    "tags": [
     "2"
    ]
   },
   "outputs": [],
   "source": [
    "title = html.H2('Coronavirus Forecasting Dashboard')\n",
    "link = html.A('Visit live dashboard', href='https://coronavirus.dunderdata.com')\n",
    "layout = html.Div([title, link])\n",
    "\n",
    "app = JupyterDash(__name__)\n",
    "app.layout = layout\n",
    "app.run_server(mode='inline', height=100)"
   ]
  },
  {
   "cell_type": "markdown",
   "metadata": {},
   "source": [
    "### Adding CSS\n",
    "\n",
    "In our actual project, most CSS will be kept in the external stylesheet, style.css. For this tutorial, it will be easier to see the CSS together with elements. Unfortunately, the `dash_html_components` library does not have a style element. However, CSS may be added with the `style` parameter, setting it to a dictionary with each property mapped to its value, with the caveat that attribute names are written in **camelCase**. Also, you cannot set the `class` or `id` within the `style` dictionary, but must use the `id` and `className` parameters instead. The following list summarizes the differences writing HTML in dash:\n",
    "\n",
    "* Nearly all normal HTML elements are available in `dash_html_components`\n",
    "* Element names are capitalized\n",
    "* Attributes are the same and available as parameters\n",
    "* Set the `style` parameter to a dictionary to apply CSS\n",
    "* Properties in the style dictionary are **camelCased**\n",
    "* Set id and class with parameters `id` and `className`\n",
    "\n",
    "Here, we use the same layout from above, but add style to the header."
   ]
  },
  {
   "cell_type": "code",
   "execution_count": null,
   "metadata": {
    "tags": [
     "3"
    ]
   },
   "outputs": [],
   "source": [
    "title = html.H2('Coronavirus Forecasting Dashboard', \n",
    "                style={\n",
    "                    'backgroundColor': 'tan',\n",
    "                    'fontFamily': 'verdana',\n",
    "                    'textAlign': 'center'\n",
    "                }\n",
    "               )\n",
    "link = html.A('Visit live dashboard', href='https://coronavirus.dunderdata.com')\n",
    "layout = html.Div([title, link])\n",
    "\n",
    "app = JupyterDash(__name__)\n",
    "app.layout = layout\n",
    "app.run_server(mode='inline', height=100)"
   ]
  },
  {
   "cell_type": "markdown",
   "metadata": {},
   "source": [
    "## Creating a data table\n",
    "\n",
    "A separate package, `dash_table`, contains the class `DataTable` to create interactive tables of data. Visit the [official documentation][0] for full coverage. There are many parameters that you can set during construction of the table:\n",
    "\n",
    "* `data` - List of dictionaries where each list represents one row. \n",
    "    * `df.to_dict('records')` converts a pandas DataFrame into the proper data structure\n",
    "* `columns` - List of dictionaries where each item represents information (name, id, type, format, etc...) on one column. \n",
    "    * `[{'name': name, 'id': name} for name in df.columns]`\n",
    "* `sort_action` - Allow sorting of columns by setting to string `'native'`\n",
    "* `active_cell` - Initial active cell - will be highlighted - `{\"row\": 0, \"column\": 0}`\n",
    "* `style_table` - CSS for `table` HTML element (not for individual rows, columns, or cells)\n",
    "* `style_cell` - CSS for ALL cells\n",
    "* `style_header` - CSS for only the header (columns)\n",
    "* `style_data` - CSS for only the data\n",
    "* `style_data_conditional` - CSS based on if/else condition\n",
    "    * `{\"if\": {\"column_id\": first_col}, \"width\": \"120px\", \"textAlign\": \"left\"}`\n",
    "* `fixed_rows` - Keep the first `n` rows fixed when scrolling down. Mainly used to keep the column names on top.\n",
    "    * `{ 'headers': True, 'data': n }`\n",
    "\n",
    "[0]: https://dash.plotly.com/datatable"
   ]
  },
  {
   "cell_type": "markdown",
   "metadata": {},
   "source": [
    "Let's read in the summary table as a pandas DataFrame placing the group (either \"world\" or usa\") in the index. It has one row per area for the \"current\" date."
   ]
  },
  {
   "cell_type": "code",
   "execution_count": null,
   "metadata": {},
   "outputs": [],
   "source": [
    "import pandas as pd\n",
    "SUMMARY = pd.read_csv(\"data/summary.csv\", index_col=\"group\", parse_dates=[\"date\"])\n",
    "SUMMARY.head(3)"
   ]
  },
  {
   "cell_type": "markdown",
   "metadata": {},
   "source": [
    "This is the data we'd like to place within a dash data table. Before doing so, we'll select a subset of columns for just the world group and change the area column to \"Country\"."
   ]
  },
  {
   "cell_type": "code",
   "execution_count": null,
   "metadata": {},
   "outputs": [],
   "source": [
    "group = \"world\"\n",
    "used_columns = [\"area\", \"Deaths\", \"Cases\", \"Deaths per Million\", \"Cases per Million\"]\n",
    "df = SUMMARY.loc[group, used_columns]\n",
    "df = df.rename(columns={\"area\": \"Country\"})\n",
    "df.head(3)"
   ]
  },
  {
   "cell_type": "markdown",
   "metadata": {},
   "source": [
    "Now that we have our data, we need to provide column info to dash by creating a list of dictionaries. At a minimum, the `name` (visible label for column) and `id` (internal identification) must be present. We set both the name and id to the column name. The `type` (\"any\", \"numeric\", \"text\", or \"datetime\") is given along with setting `format` to a dictionary that uses the key `specifier` to set the formatting (based on [D3 format][1]). The first column is the area, which is a text column. We iterate to append all of the other columns, which are numeric.\n",
    "\n",
    "[1]: https://github.com/d3/d3-format"
   ]
  },
  {
   "cell_type": "code",
   "execution_count": null,
   "metadata": {},
   "outputs": [],
   "source": [
    "columns = [{\"name\": \"Country\", \n",
    "            \"id\": \"Country\", \"type\": \"text\"}]\n",
    "for name in df.columns[1:]:\n",
    "    col_info = {\n",
    "        \"name\": name,\n",
    "        \"id\": name,\n",
    "        \"type\": \"numeric\",\n",
    "        \"format\": {'specifier': ','}\n",
    "    }\n",
    "    columns.append(col_info)"
   ]
  },
  {
   "cell_type": "markdown",
   "metadata": {},
   "source": [
    "We sort the DataFrame by deaths and then convert it to a list of dictionaries, which is necessary for the dash table."
   ]
  },
  {
   "cell_type": "code",
   "execution_count": null,
   "metadata": {},
   "outputs": [],
   "source": [
    "data = df.sort_values(\"Deaths\", ascending=False).to_dict(\"records\")\n",
    "data[:3]"
   ]
  },
  {
   "cell_type": "markdown",
   "metadata": {},
   "source": [
    "We are now set to create our data table. We use `active_cell` to highlight and make the first cell active. We also use conditional styling to underline values in the first column and turn the cursor into a pointer to inform the user that it is clickable. \n",
    "\n",
    "\n",
    "### Note on table height\n",
    "\n",
    "Unfortunately, behavior for table height is not consistent and requires us to set it using both `minHeight` and `height` CSS properties when using `fixed_rows`/`fixed_columns`. We set it using the units `vh`, which stands for **viewport height**, where 1vh represents 1% of the viewable height of the screen. Below, we set it to 80vh so that the table takes up 80% of the viewable screen height."
   ]
  },
  {
   "cell_type": "code",
   "execution_count": null,
   "metadata": {
    "tags": [
     "4"
    ]
   },
   "outputs": [],
   "source": [
    "from dash_table import DataTable\n",
    "world_table = DataTable(\n",
    "    id=f\"{group}-table\",\n",
    "    columns=columns,\n",
    "    data=data,\n",
    "    fixed_rows={\"headers\": True},\n",
    "    active_cell={\"row\": 0, \"column\": 0},\n",
    "    sort_action=\"native\",\n",
    "    derived_virtual_data=data,\n",
    "    style_table={\n",
    "        \"minHeight\": \"80vh\",\n",
    "        \"height\": \"80vh\",\n",
    "        \"overflowY\": \"scroll\"\n",
    "        },\n",
    "    style_cell={\n",
    "        \"whitespace\": \"normal\",\n",
    "        \"height\":\"auto\",\n",
    "        \"fontFamily\": \"verdana\"\n",
    "    },\n",
    "    style_header={\n",
    "        \"textAlign\": \"center\",\n",
    "        \"fontSize\": 14\n",
    "    },\n",
    "    style_data={\n",
    "        \"fontSize\": 12\n",
    "    },\n",
    "    style_data_conditional=[\n",
    "        {\n",
    "            \"if\": {\"column_id\": \"Country\"},\n",
    "            \"width\": \"120px\",\n",
    "            \"textAlign\": \"left\",\n",
    "            \"textDecoration\": \"underline\",\n",
    "            \"cursor\": \"pointer\"\n",
    "        },\n",
    "        {\n",
    "            \"if\": {\"row_index\": \"odd\"}, \n",
    "            \"backgroundColor\": \"#fafbfb\"\n",
    "        }\n",
    "    ],\n",
    ")\n",
    "layout = html.Div([title, world_table])\n",
    "\n",
    "app = JupyterDash(__name__)\n",
    "app.layout = layout\n",
    "app.run_server(mode='inline', height=500)"
   ]
  },
  {
   "cell_type": "markdown",
   "metadata": {},
   "source": [
    "The function below encapsulates all of our work from above and is nearly identical to the one found in `dashboard.py`."
   ]
  },
  {
   "cell_type": "code",
   "execution_count": null,
   "metadata": {},
   "outputs": [],
   "source": [
    "def create_table(group):\n",
    "    used_columns = [\n",
    "        \"area\",\n",
    "        \"Deaths\",\n",
    "        \"Cases\",\n",
    "        \"Deaths per Million\",\n",
    "        \"Cases per Million\",\n",
    "    ]\n",
    "    df = SUMMARY.loc[group, used_columns]\n",
    "    first_col = \"Country\" if group == \"world\" else \"State\"\n",
    "    df = df.rename(columns={\"area\": first_col})\n",
    "\n",
    "    columns = [{\"name\": first_col, \"id\": first_col}]\n",
    "    for name in df.columns[1:]:\n",
    "        col_info = {\n",
    "            \"name\": name,\n",
    "            \"id\": name,\n",
    "            \"type\": \"numeric\",\n",
    "            \"format\": {'specifier': ','},\n",
    "        }\n",
    "        columns.append(col_info)\n",
    "\n",
    "    data = df.sort_values(\"Deaths\", ascending=False).to_dict(\"records\")\n",
    "    return DataTable(\n",
    "        id=f\"{group}-table\",\n",
    "        columns=columns,\n",
    "        data=data,\n",
    "        active_cell={\"row\": 0, \"column\": 0},\n",
    "        fixed_rows={\"headers\": True},\n",
    "        sort_action=\"native\",\n",
    "        derived_virtual_data=data,\n",
    "        style_table={\n",
    "            \"minHeight\": \"80vh\",\n",
    "            \"height\": \"80vh\",\n",
    "            \"overflowY\": \"scroll\",\n",
    "            \"borderRadius\": \"0px 0px 10px 10px\",\n",
    "        },\n",
    "        style_cell={\n",
    "            \"whiteSpace\": \"normal\",\n",
    "            \"height\": \"auto\",\n",
    "            \"fontFamily\": \"verdana\",\n",
    "        },\n",
    "        style_header={\n",
    "            \"textAlign\": \"center\",\n",
    "            \"fontSize\": 14,\n",
    "        },\n",
    "        style_data={\n",
    "            \"fontSize\": 12,\n",
    "        },\n",
    "        style_data_conditional=[\n",
    "            {\n",
    "                \"if\": {\"column_id\": first_col},\n",
    "                \"width\": \"120px\",\n",
    "                \"textAlign\": \"left\",\n",
    "                \"textDecoration\": \"underline\",\n",
    "                \"cursor\": \"pointer\",\n",
    "            },\n",
    "            {\n",
    "                \"if\": {\"row_index\": \"odd\"}, \n",
    "                \"backgroundColor\": \"#fafbfb\"\n",
    "            }\n",
    "        ],\n",
    "    )"
   ]
  },
  {
   "cell_type": "markdown",
   "metadata": {},
   "source": [
    "Let's use it to create the USA data table and recreate the world table as well. These tables will be accessible from their respective tab."
   ]
  },
  {
   "cell_type": "code",
   "execution_count": null,
   "metadata": {},
   "outputs": [],
   "source": [
    "world_table = create_table(\"world\")\n",
    "usa_table = create_table(\"usa\")"
   ]
  },
  {
   "cell_type": "markdown",
   "metadata": {},
   "source": [
    "## Dash core components\n",
    "\n",
    "The [dash_core_components library][1], aliased as `dcc`, contains many interactive widgets such as checklists, dropdown menus, buttons, tabs, and others. You can think of these widgets as a collection of HTML, CSS, and JavaScript wrapped into a single Python class that is ready to use.\n",
    "\n",
    "###  Creating tabs\n",
    "\n",
    "Let's create two tabs, one for each of the world and USA. To do so we'll need both the `Tabs` and `Tab` classes from `dash_core_components`. The `Tabs` component is the container for each individual `Tab`, which is the container for the content (data table in this example). Here, we create two individual tabs, using the data table as the content. Dash allows you to provide a normal class name, and another one for when it is selected. This enables us to apply different styling based on which tab is selected.\n",
    "\n",
    "[1]: https://dash.plotly.com/dash-core-components"
   ]
  },
  {
   "cell_type": "code",
   "execution_count": null,
   "metadata": {},
   "outputs": [],
   "source": [
    "import dash_core_components as dcc\n",
    "\n",
    "def create_tab(content, label, value):\n",
    "    return dcc.Tab(\n",
    "        content,\n",
    "        label=label,\n",
    "        value=value,\n",
    "        id=f\"{value}-tab\",\n",
    "        className=\"single-tab\",\n",
    "        selected_className=\"single-tab--selected\",\n",
    "    )\n",
    "\n",
    "world_tab = create_tab(world_table, \"World\", \"world\")\n",
    "usa_tab = create_tab(usa_table, \"US States\", \"usa\")"
   ]
  },
  {
   "cell_type": "markdown",
   "metadata": {},
   "source": [
    "We pass the individual tabs as a list to the `Tabs` component and update our layout to show the tabs with the tables."
   ]
  },
  {
   "cell_type": "code",
   "execution_count": null,
   "metadata": {
    "tags": [
     "5"
    ]
   },
   "outputs": [],
   "source": [
    "table_tabs = dcc.Tabs(\n",
    "    [world_tab, usa_tab], \n",
    "    className=\"tabs-container\", \n",
    "    id=\"table-tabs\",\n",
    "    value=\"world\"\n",
    ")\n",
    "layout = html.Div([title, table_tabs])\n",
    "\n",
    "app = JupyterDash(__name__)\n",
    "app.layout = layout\n",
    "app.run_server(mode='inline', height=500)"
   ]
  },
  {
   "cell_type": "markdown",
   "metadata": {},
   "source": [
    "## Adding plotly figures with `dcc.Graph`\n",
    "\n",
    "Plotly figures must be placed within the `dcc.Graph` component in order to be added to the dashboard. Before we make the graphs, let's read in all of the data, putting the group, area, and date in the index."
   ]
  },
  {
   "cell_type": "code",
   "execution_count": null,
   "metadata": {},
   "outputs": [],
   "source": [
    "ALL_DATA = pd.read_csv(\"data/all_data.csv\", \n",
    "                       index_col=[\"group\", \"area\", \"date\"], \n",
    "                       parse_dates=[\"date\"]).sort_index()\n",
    "ALL_DATA.head()"
   ]
  },
  {
   "cell_type": "markdown",
   "metadata": {},
   "source": [
    "We made all of the figures for our dashboard in the chapter covering plotly visualizations. The cell below defines the following functions:\n",
    "\n",
    "* `create_figures` - creates three empty plotly figures with two plots each\n",
    "* `make_cumulative_graphs` - cumulative line graphs of total deaths/cases\n",
    "* `make_daily_graphs` - daily bar chart of deaths/cases\n",
    "* `make_weekly_graphs` - aggregated weekly totals of deaths/cases\n",
    "* `create_graphs` - runs the above four functions and returns three completed figures."
   ]
  },
  {
   "cell_type": "code",
   "execution_count": null,
   "metadata": {},
   "outputs": [],
   "source": [
    "from plotly.subplots import make_subplots\n",
    "from plotly.colors import qualitative\n",
    "COLORS = qualitative.T10[:2]\n",
    "LAST_DATE = SUMMARY['date'].iloc[-1]\n",
    "FIRST_PRED_DATE = LAST_DATE + pd.Timedelta('1D')\n",
    "\n",
    "def create_figures(title, n=3):\n",
    "    figs = []\n",
    "    annot_props = {\"x\": 0.1, \"xref\": \"paper\", \"yref\": \"paper\", \"xanchor\": \"left\",\n",
    "                   \"showarrow\": False, \"font\": {\"size\": 18},}\n",
    "    for _ in range(n):\n",
    "        fig = make_subplots(rows=2, cols=1, vertical_spacing=0.1)\n",
    "        fig.update_layout(\n",
    "            title={\"text\": title, \"x\": 0.5, \"y\": 0.97, \"font\": {\"size\": 20}},\n",
    "            annotations=[\n",
    "                {\"y\": 0.95, \"text\": \"<b>Deaths</b>\"},\n",
    "                {\"y\": 0.3, \"text\": \"<b>Cases</b>\"},\n",
    "            ],\n",
    "            margin={\"t\": 40, \"l\": 50, \"r\": 10, \"b\": 0},\n",
    "            legend={\"x\": 0.5, \"y\": -0.05, \"xanchor\": \"center\", \"orientation\": \"h\",\n",
    "                    \"font\": {\"size\": 15}})\n",
    "        fig.update_traces(showlegend=False, row=2, col=1)\n",
    "        fig.update_traces(hovertemplate=\"%{x} - %{y:,}\")\n",
    "        fig.update_annotations(annot_props)\n",
    "        figs.append(fig)\n",
    "    return figs\n",
    "\n",
    "def make_cumulative_graphs(fig, df_dict, kinds):\n",
    "    for row, kind in enumerate(kinds, start=1):\n",
    "        for i, (name, df) in enumerate(df_dict.items()):\n",
    "            fig.add_scatter(x=df.index, y=df[kind], mode=\"lines+markers\", \n",
    "                            showlegend=row==1, line={\"color\": COLORS[i]}, \n",
    "                            name=name, row=row, col=1)\n",
    "\n",
    "def make_daily_graphs(fig, df_dict, kinds):\n",
    "    for row, kind in enumerate(kinds, start=1):\n",
    "        for i, (name, df) in enumerate(df_dict.items()):\n",
    "            fig.add_bar(x=df.index, y=df[kind], marker={\"color\": COLORS[i]},\n",
    "                        showlegend=row==1, name=name, row=row, col=1)\n",
    "\n",
    "def make_weekly_graphs(fig, df_dict, kinds):\n",
    "    offset = \"W-\" + LAST_DATE.strftime(\"%a\").upper()\n",
    "    df_dict = {name: df.resample(offset, kind=\"timestamp\", closed=\"right\")[kinds].sum()\n",
    "               for name, df in df_dict.items()}\n",
    "\n",
    "    for row, kind in enumerate(kinds, start=1):\n",
    "        for i, (name, df) in enumerate(df_dict.items()):\n",
    "            fig.add_scatter(x=df.index, y=df[kind], mode=\"lines+markers\",\n",
    "                            showlegend=row==1, line={\"color\": COLORS[i]},\n",
    "                            name=name, row=row, col=1)\n",
    "            \n",
    "def create_graphs(group, area):\n",
    "    df = ALL_DATA.loc[(group, area)]\n",
    "    df_dict = {\"actual\": df.loc[:LAST_DATE], \"prediction\": df.loc[FIRST_PRED_DATE:]}\n",
    "    kinds = [\"Deaths\", \"Cases\"]\n",
    "    new_kinds = [\"Daily Deaths\", \"Daily Cases\"]\n",
    "    figs = create_figures(area)\n",
    "    make_cumulative_graphs(figs[0], df_dict, kinds)\n",
    "    make_daily_graphs(figs[1], df_dict, new_kinds)\n",
    "    make_weekly_graphs(figs[2], df_dict, new_kinds)\n",
    "    return figs"
   ]
  },
  {
   "cell_type": "markdown",
   "metadata": {},
   "source": [
    "Let's choose one area to make the three graphs."
   ]
  },
  {
   "cell_type": "code",
   "execution_count": null,
   "metadata": {},
   "outputs": [],
   "source": [
    "figs = create_graphs('usa', 'Texas')"
   ]
  },
  {
   "cell_type": "markdown",
   "metadata": {},
   "source": [
    "Here are the cumulative line graphs for cases in deaths as a plotly figure. This is independent of dash at this point."
   ]
  },
  {
   "cell_type": "code",
   "execution_count": null,
   "metadata": {},
   "outputs": [],
   "source": [
    "figs[0]"
   ]
  },
  {
   "cell_type": "markdown",
   "metadata": {},
   "source": [
    "Daily bar graph:"
   ]
  },
  {
   "cell_type": "code",
   "execution_count": null,
   "metadata": {},
   "outputs": [],
   "source": [
    "figs[1]"
   ]
  },
  {
   "cell_type": "markdown",
   "metadata": {},
   "source": [
    "Weekly aggregate line graph:"
   ]
  },
  {
   "cell_type": "code",
   "execution_count": null,
   "metadata": {
    "scrolled": false
   },
   "outputs": [],
   "source": [
    "figs[2]"
   ]
  },
  {
   "cell_type": "markdown",
   "metadata": {},
   "source": [
    "We set the `figure` parameter of `dcc.Graph` to be one of the figures and then place that object in our layout. This new object would appear under the table by default, since it's a block-level element. To display it to the side of the table, we place the tabs and graph within a div and set its `display` property to `grid`. A 2 x 2 grid is created using the following `gridTemplateAreas`.\n",
    "\n",
    "```css\n",
    "\"tables graphs\"\n",
    "\"tables maps\"\n",
    "```\n",
    "\n",
    "Each column is set to be 50% of the viewport width, `vw`. The graph is given the `gridArea` of \"graphs\", while the style of `table_tables` is updated so that it's `gridArea` is \"tables\". Lastly, `columnGap` is used to separate the left and right columns by 10 pixels."
   ]
  },
  {
   "cell_type": "code",
   "execution_count": null,
   "metadata": {
    "tags": [
     "6"
    ]
   },
   "outputs": [],
   "source": [
    "cumulative_graph = dcc.Graph(figure=figs[0], style={'gridArea': \"graphs\"})\n",
    "table_tabs.style = {'gridArea': \"tables\"}\n",
    "container = html.Div([table_tabs, cumulative_graph], \n",
    "                     style={'display': 'grid',\n",
    "                            'gridTemplateAreas': '\"tables graphs\" \"tables maps\"',\n",
    "                            'gridTemplateColumns': \"50vw 50vw\",\n",
    "                            'columnGap': '10px'})\n",
    "layout = html.Div([title, container])\n",
    "\n",
    "app = JupyterDash(__name__)\n",
    "app.layout = layout\n",
    "app.run_server(mode='inline', height=600)"
   ]
  },
  {
   "cell_type": "markdown",
   "metadata": {},
   "source": [
    "In the actual dashboard, we have tabs to cycle through each graph. We'll duplicate the procedure from above, adding each graph to its own tab."
   ]
  },
  {
   "cell_type": "code",
   "execution_count": null,
   "metadata": {
    "tags": [
     "7"
    ]
   },
   "outputs": [],
   "source": [
    "cumulative_graph = dcc.Graph(figure=figs[0], id=\"cumulative-graph\")\n",
    "daily_graph = dcc.Graph(figure=figs[1], id=\"daily-graph\")\n",
    "weekly_graph = dcc.Graph(figure=figs[2], id=\"weekly-graph\")\n",
    "\n",
    "cumulative_tab = create_tab(cumulative_graph, \"Cumulative\", \"cumulative\")\n",
    "daily_tab = create_tab(daily_graph, \"Daily\", \"daily\")\n",
    "weekly_tab = create_tab(weekly_graph, \"Weekly\", \"weekly\")\n",
    "\n",
    "graph_tabs = dcc.Tabs(\n",
    "    [cumulative_tab, daily_tab, weekly_tab],\n",
    "    className=\"tabs-container\",\n",
    "    id=\"graph-tabs\",\n",
    "    value=\"cumulative\",\n",
    "    style={'gridArea': 'graphs', 'margin': '0px'}\n",
    ")\n",
    "\n",
    "container = html.Div([table_tabs, graph_tabs], \n",
    "                     style={'display': 'grid',\n",
    "                            'gridTemplateAreas': '\"tables graphs\" \"tables maps\"',\n",
    "                            'gridTemplateColumns': \"50vw 50vw\",\n",
    "                            'columnGap': '10px'})\n",
    "layout = html.Div([title, container])\n",
    "\n",
    "app = JupyterDash(__name__)\n",
    "app.layout = layout\n",
    "app.run_server(mode='inline', height=600)"
   ]
  },
  {
   "cell_type": "markdown",
   "metadata": {},
   "source": [
    "## Adding the maps\n",
    "\n",
    "The last main component of the dashboard are the world and USA maps. Here, we copy the code from a previous chapter that creates the maps with custom hover text."
   ]
  },
  {
   "cell_type": "code",
   "execution_count": null,
   "metadata": {},
   "outputs": [],
   "source": [
    "import plotly.graph_objects as go\n",
    "\n",
    "def hover_text(x):\n",
    "    name = x[\"area\"]\n",
    "    deaths = x[\"Deaths\"]\n",
    "    cases = x[\"Cases\"]\n",
    "    deathsm = x[\"Deaths per Million\"]\n",
    "    casesm = x[\"Cases per Million\"]\n",
    "    return (\n",
    "        f\"<b>{name}</b><br>\"\n",
    "        f\"Deaths - {deaths:,.0f}<br>\"\n",
    "        f\"Cases - {cases:,.0f}<br>\"\n",
    "        f\"Deaths per Million - {deathsm:,.0f}<br>\"\n",
    "        f\"Cases per Million - {casesm:,.0f}<br>\"\n",
    "    )\n",
    "\n",
    "def create_map(group, radio_value):\n",
    "    df = SUMMARY.loc[group].query(\"population > 0.5\")\n",
    "    lm = None if group == \"world\" else \"USA-states\"\n",
    "    proj = \"robinson\" if group == \"world\" else \"albers usa\"\n",
    "\n",
    "    fig = go.Figure()\n",
    "    fig.add_choropleth(\n",
    "        locations=df[\"code\"],\n",
    "        z=df[radio_value],\n",
    "        zmin=0,\n",
    "        locationmode=lm,\n",
    "        colorscale=\"orrd\",\n",
    "        marker_line_width=0.5,\n",
    "        text=df.apply(hover_text, axis=1),\n",
    "        hoverinfo=\"text\",\n",
    "        colorbar=dict(len=0.6, x=1, y=0.5),\n",
    "    )\n",
    "    fig.update_layout(\n",
    "        geo={\n",
    "            \"lataxis\": {\"range\": [-50, 68]},\n",
    "            \"lonaxis\": {\"range\": [-130, 150]},\n",
    "            \"projection\": {\"type\": proj},\n",
    "            \"showframe\": False,\n",
    "        },\n",
    "        margin={\"t\": 0, \"l\": 10, \"r\": 10, \"b\": 0},\n",
    "    )\n",
    "    return fig"
   ]
  },
  {
   "cell_type": "markdown",
   "metadata": {},
   "source": [
    "Now we create a single map and color it by deaths per million."
   ]
  },
  {
   "cell_type": "code",
   "execution_count": null,
   "metadata": {},
   "outputs": [],
   "source": [
    "fig_map = create_map('world', 'Deaths per Million')\n",
    "fig_map"
   ]
  },
  {
   "cell_type": "markdown",
   "metadata": {},
   "source": [
    "## Adding radio buttons above the map\n",
    "\n",
    "Our dashboard allows the user to choose the coloring of the map with four radio buttons. The dash core components library does have radio buttons, but does not supply an easy way to change the style whenever the radio button is checked.\n",
    "\n",
    "### Dash Bootstrap Components\n",
    "\n",
    "The third-party library [Dash Bootstrap Components][1] has many components for dash that are built using [Bootstrap][2], a very popular CSS and JavaScript library containing nicely styled HTML components. Here, we create the radio buttons, which require a list of dictionaries setting the visible `label` and internal `value` to strings for all options. The `labelCheckedStyle` allows us to apply a separate style to the checked label. We create a dashboard with just the radio buttons to view them before adding them above the map.\n",
    "\n",
    "[1]: https://dash-bootstrap-components.opensource.faculty.ai/\n",
    "[2]: https://getbootstrap.com/"
   ]
  },
  {
   "cell_type": "code",
   "execution_count": null,
   "metadata": {
    "tags": [
     "8"
    ]
   },
   "outputs": [],
   "source": [
    "import dash_bootstrap_components as dbc\n",
    "\n",
    "radio_items = dbc.RadioItems(\n",
    "    options=[\n",
    "        {\"label\": \"Deaths\", \"value\": \"Deaths\"},\n",
    "        {\"label\": \"Cases\", \"value\": \"Cases\"},\n",
    "        {\"label\": \"Deaths per Million\", \"value\": \"Deaths per Million\"},\n",
    "        {\"label\": \"Cases per Million\", \"value\": \"Cases per Million\"},\n",
    "    ],\n",
    "    value=\"Deaths\",\n",
    "    id=\"map-radio-items\",\n",
    "    style={'display': 'flex', \n",
    "           'justifyContent': 'space-evenly', \n",
    "           'backgroundColor': '#212529', \n",
    "           'color': '#798d8f'},\n",
    "    labelCheckedStyle={'fontWeight': 800, 'color': 'white'}\n",
    ")\n",
    "\n",
    "\n",
    "app = JupyterDash(__name__)\n",
    "app.layout = radio_items\n",
    "app.run_server(mode='inline', height=50)"
   ]
  },
  {
   "cell_type": "markdown",
   "metadata": {},
   "source": [
    "The radio buttons and map are wrapped in a div and added to the bottom right corner. The buttons will have no effect until we add the interactivity. Note that we had to set the style of each graph component in order to set the height. This is a bug in dash as the graph does not expand or contract to fit the size of its container."
   ]
  },
  {
   "cell_type": "code",
   "execution_count": null,
   "metadata": {
    "tags": [
     "9"
    ]
   },
   "outputs": [],
   "source": [
    "cumulative_graph.style = {'height': '40vh'}\n",
    "daily_graph.style = {'height': '40vh'}\n",
    "weekly_graph.style = {'height': '40vh'}\n",
    "\n",
    "map_graph = dcc.Graph(figure=fig_map, id=\"map-graph\", style={'height': '40vh'})\n",
    "map_div = html.Div([radio_items, map_graph], style={'gridArea': 'maps'})\n",
    "container = html.Div([table_tabs, graph_tabs, map_div], \n",
    "                     style={'display': 'grid',\n",
    "                            'gridTemplateAreas': '\"tables graphs\" \"tables maps\"',\n",
    "                            'gridTemplateColumns': \"50vw 50vw\",\n",
    "                            'gridTemplateRows': \"50vh 40vh\",\n",
    "                            'columnGap': '10px',\n",
    "                            })\n",
    "layout = html.Div([title, container])\n",
    "\n",
    "app = JupyterDash(__name__)\n",
    "app.layout = layout\n",
    "app.run_server(mode='inline', height=800)"
   ]
  },
  {
   "cell_type": "markdown",
   "metadata": {},
   "source": [
    "## Interactivity using callbacks\n",
    "\n",
    "The **layout** of our dashboard is now complete. We are ready to move on to the second half of our application, the **interactivity**. Code for the interactivity MUST appear after `app.layout` has been set or you'll get an error. The interactivity is user-defined functions named callbacks that get triggered by some event on the dashboard, usually a click.\n",
    "\n",
    "### Writing a callback\n",
    "\n",
    "A summary of the callback function is provided below:\n",
    "\n",
    "* `app.callback` method decorates the function and takes three main arguments:\n",
    "    * Outputs - A list of layout components to be changed\n",
    "    * Inputs - A list of layout components that trigger the function\n",
    "    * States - A list of non-triggered layout components to pass to the function\n",
    "* Function defined with one parameter for every input\n",
    "* Function must return the number of outputs\n",
    "\n",
    "### `Output`, `Input`, and `State`\n",
    "\n",
    "You will use the objects `Output`, `Input`, and `State` to describe the arguments to your callback function, and the return values. All three objects are found in the `dash.dependencies` module and all require two arguments, the **id** of the component, and the targeted **property**. Here are some examples:\n",
    "\n",
    "* `Output(\"cumulative-graph\", \"figure\")` - informs dash that the component with id of \"cumulative-graph\" should have its \"figure\" property replaced with a returned value.\n",
    "* `Input('world-table', 'active_cell')` - informs dash to trigger the function whenever the `active_cell` property of the component with id \"world-table\" is changed.\n",
    "* `State('world-table', 'derived_virtual_data')` - tells dash to pass the value of the property `derived_virtual_data` of the component with id \"world-table\" to the function. `State` does not trigger the function. It's just extra data to pass to the function whenever it does get triggered.\n",
    "\n",
    "Take a look at the interactivity below. We have a single function that is decorated by `app.callback`. The function name can be anything you desire. This function changes three components (the \"figure\" property of each graph in the upper right corner). From the inputs section, we see that it gets triggered when the active cell changes in the world table. Whenever this function gets triggered, it also gets passed the value of `derived_virtual_data` from the world table.\n",
    "\n",
    "### `data` vs `derived_virtual_data`\n",
    "\n",
    "You might be wondering what the difference is between the `data` and `derived_virtual_data` properties from a dash data table. They are both lists containing a dictionary for every row of data. But, the `data` property is **static** and never changes. If the table gets sorted by the user, the list from `data` remains the same. The `derived_virtual_data` is **dynamic** and always matches the data that the user sees. This is why we use it and not the value for the `data` property.\n",
    "\n",
    "### All callbacks called when dashboard starts\n",
    "\n",
    "By default, all callbacks are called at the start of the application. This may seem like undesired behavior, but it can actually save you from repeating code, as you don't have to set the components that will be changed during the callback. \n",
    "\n",
    "Our function below will be called by dash whenever the active cell changes, and will be passed two arguments. The parameter names for the function are completely arbitrary, and can be anything you choose. The order of the arguments passed comes directly from the order of the inputs and states in the decorator.\n",
    "\n",
    "Our function receives the default values for the `active_cell` and `derived_virtual_data`, in that order. The text value of `active_cell` is not provided, just a dictionary of row and column integers. We use this info to find the actual value from the list of dictionaries from `derived_virtual_data`. Once we get the country name, we call the `create_graphs` function, which returns three figures, replacing the \"figure\" property of each of the `dcc.Graph` objects. To help understand what is passed to the function, a print statement is added to show some variable values."
   ]
  },
  {
   "cell_type": "code",
   "execution_count": null,
   "metadata": {
    "scrolled": false,
    "tags": [
     "9"
    ]
   },
   "outputs": [],
   "source": [
    "from dash.dependencies import Output, Input, State\n",
    "\n",
    "app = JupyterDash(__name__)\n",
    "app.layout = layout\n",
    "\n",
    "@app.callback(\n",
    "    [\n",
    "        Output(\"cumulative-graph\", \"figure\"),\n",
    "        Output(\"daily-graph\", \"figure\"),\n",
    "        Output(\"weekly-graph\", \"figure\"),\n",
    "    ],\n",
    "    [\n",
    "        Input('world-table', 'active_cell')\n",
    "    ],\n",
    "    [\n",
    "        State('world-table', 'derived_virtual_data')\n",
    "    ]\n",
    ")\n",
    "def change_area_graphs(world_cell, world_data):\n",
    "    \"\"\"\n",
    "    Change the all three graphs in the upper right hand corner of the app\n",
    "    \n",
    "    Parameters\n",
    "    ----------\n",
    "    world_cell : dict with keys `row` and `cell` mapped to integers of cell location\n",
    "    \n",
    "    world_data : list of dicts of one country per row.\n",
    "                     Has keys Country, Deaths, Cases, Deaths per Million, Cases per Million\n",
    "                     \n",
    "    Returns\n",
    "    -------\n",
    "    List of three plotly figures, one for each of the `Output`\n",
    "    \"\"\"\n",
    "    row_number = world_cell[\"row\"]\n",
    "    row_data = world_data[row_number]\n",
    "    country = row_data['Country']\n",
    "    print(\"active_cell\", world_cell, \n",
    "          \"\\nrow_number\", row_number, \n",
    "          \"\\nrow_data\", row_data, \n",
    "          \"\\ncountry\", country)\n",
    "    return create_graphs('world', country)\n",
    "    \n",
    "app.run_server(mode='inline', height=800)"
   ]
  },
  {
   "cell_type": "markdown",
   "metadata": {},
   "source": [
    "### Single Callback for updating both World and USA data\n",
    "\n",
    "A component may only appear as an output in exactly **one** callback. This means we cannot write separate callbacks for the world and USA tables, as they update the same three graphs in the upper right corner. To work around this limitation, we redefine our callback to have a total of three input triggers - both data tables and the tab above them. If the active cell from either of the tables change or the tab switches, the function will be triggered. It gets passed those three inputs plus the underlying list of dictionaries (the `derived_virtual_data`) from both tables.\n",
    "\n",
    "The body of the function is updated to perform some logic to determine whether the world or USA tab is active. Since any cell can be the active cell, it only updates the graph when the first column (index equal to 0) is active. It's also possible that there is no active cell, making its value `None`. This happens whenever a sort is performed. The statement `if cell and cell[\"column\"] == 0` ensures that there is an active cell and it's in the first column. If this check fails, we must raise the `PreventUpdate` exception (that you must import from the `dash.exceptions` module) as dash expects three figures to be returned. This is a useful exception to know about, as there will be times a user triggers a callback, but the desired behavior is to not change anything."
   ]
  },
  {
   "cell_type": "code",
   "execution_count": null,
   "metadata": {
    "scrolled": false,
    "tags": [
     "9"
    ]
   },
   "outputs": [],
   "source": [
    "from dash.exceptions import PreventUpdate\n",
    "\n",
    "app = JupyterDash(__name__)\n",
    "app.layout = layout\n",
    "\n",
    "@app.callback(\n",
    "    [\n",
    "        Output(\"cumulative-graph\", \"figure\"),\n",
    "        Output(\"daily-graph\", \"figure\"),\n",
    "        Output(\"weekly-graph\", \"figure\"),\n",
    "    ],\n",
    "    [\n",
    "        Input(\"world-table\", \"active_cell\"),\n",
    "        Input(\"usa-table\", \"active_cell\"),\n",
    "        Input(\"table-tabs\", \"value\"),\n",
    "    ],\n",
    "    [\n",
    "        State(\"world-table\", \"derived_virtual_data\"),\n",
    "        State(\"usa-table\", \"derived_virtual_data\"),\n",
    "    ],\n",
    ")\n",
    "def change_area_graphs(world_cell, usa_cell, group, world_data, usa_data):\n",
    "    area, cell, data = \"Country\", world_cell, world_data\n",
    "    if group == \"usa\":\n",
    "        area, cell, data = \"State\", usa_cell, usa_data\n",
    "    if cell and cell[\"column\"] == 0:\n",
    "        country_state = data[cell[\"row\"]][area]\n",
    "        return create_graphs(group, country_state)\n",
    "    else:\n",
    "        raise PreventUpdate\n",
    "        \n",
    "app.run_server(mode='inline', height=800)"
   ]
  },
  {
   "cell_type": "markdown",
   "metadata": {},
   "source": [
    "## Callback to change the map\n",
    "\n",
    "We need to add one more callback to change the map and/or its coloring.  This function gets triggered when either the tabs above the table change or one of the radio items is clicked. We return a single figure using our `create_map` function defined above."
   ]
  },
  {
   "cell_type": "code",
   "execution_count": null,
   "metadata": {
    "tags": [
     "9"
    ]
   },
   "outputs": [],
   "source": [
    "app = JupyterDash(__name__)\n",
    "app.layout = layout\n",
    "\n",
    "@app.callback(\n",
    "    [\n",
    "        Output(\"cumulative-graph\", \"figure\"),\n",
    "        Output(\"daily-graph\", \"figure\"),\n",
    "        Output(\"weekly-graph\", \"figure\"),\n",
    "    ],\n",
    "    [\n",
    "        Input(\"world-table\", \"active_cell\"),\n",
    "        Input(\"usa-table\", \"active_cell\"),\n",
    "        Input(\"table-tabs\", \"value\"),\n",
    "    ],\n",
    "    [\n",
    "        State(\"world-table\", \"derived_virtual_data\"),\n",
    "        State(\"usa-table\", \"derived_virtual_data\"),\n",
    "    ],\n",
    ")\n",
    "def change_area_graphs(world_cell, usa_cell, group, world_data, usa_data):\n",
    "    area, cell, data = \"Country\", world_cell, world_data\n",
    "    if group == \"usa\":\n",
    "        area, cell, data = \"State\", usa_cell, usa_data\n",
    "    if cell and cell[\"column\"] == 0:\n",
    "        country_state = data[cell[\"row\"]][area]\n",
    "        return create_graphs(group, country_state)\n",
    "    else:\n",
    "        raise PreventUpdate\n",
    "\n",
    "@app.callback(\n",
    "    Output(\"map-graph\", \"figure\"),\n",
    "    [\n",
    "        Input(\"table-tabs\", \"value\"), \n",
    "        Input(\"map-radio-items\", \"value\")\n",
    "    ],\n",
    ")\n",
    "def change_map(group, radio_value):\n",
    "    return create_map(group, radio_value)\n",
    "\n",
    "app.run_server(mode='inline', height=800)"
   ]
  },
  {
   "cell_type": "markdown",
   "metadata": {},
   "source": [
    "### Differences between this tutorial and `dashboard.py`\n",
    "\n",
    "Open the `dashboard.py` file and review the code. It is largely the same as it was presented in this tutorial, however, there are a few differences:\n",
    "\n",
    "* The dash application is instantiated with `Dash` from the library `dash` and not `JupyterDash`\n",
    "* All of the CSS (except for the data tables) has moved to assets/style.css\n",
    "* The CSS for Bootstrap (and any other external CSS) must be linked using the `external_stylesheets` parameter when instantiating `Dash`. It is set to a list of URLs containing CSS.\n",
    "* A new column in our CSS grid is added on the left. Four bootstrap \"cards\" from `dash_bootstrap_components` are placed in this column.\n",
    "* A navigation bar is added to the top of the page using `dash_bootstrap_components`\n",
    "* CSS is added to target screens with a width less than 1000px using a media query.\n",
    "    * Take a look at the bottom of assets/style.css. You'll see the following selector \n",
    "        * `@media only screen and (max-width: 1000px)`"
   ]
  },
  {
   "cell_type": "markdown",
   "metadata": {},
   "source": [
    "## Dash Summary\n",
    "\n",
    "* Dash vs Plotly \n",
    "    * Dash builds the dashboard application with HTML components and provides interactivity with callbacks\n",
    "    * Dash does not do visualization\n",
    "    * Plotly creates all visualizations\n",
    "    * Plotly visualizations must be placed in a `dcc.Graph` component\n",
    "* Two parts of a dash application\n",
    "    * **Layout**\n",
    "        * Dash HTML Components - nearly all regular HTML components\n",
    "        * Dash Core Components - interactive widgets\n",
    "        * Dash Data Tables - two dimensional tables\n",
    "        * Dash Bootstrap Components - third-party library with more widgets styled with Bootstrap\n",
    "        * Must set `app.layout` to a dash component to finalize layout\n",
    "    * **Interactivity**\n",
    "        * Functions triggered by user events\n",
    "        * Functions receive component values as inputs\n",
    "        * Functions return new component values as outputs\n",
    "        * Interactivity must come after `app.layout` is set\n",
    "* Dash HTML Components\n",
    "    * Separate library - `dash_html_components` aliased as `html`\n",
    "    * Uses same tag names as regular HTML, but capitalized\n",
    "    * First parameter is content\n",
    "    * Provide id and class as `id` and `className` parameters\n",
    "    * Can provide CSS with `style` parameter, but better to do so in `assets/style.css`\n",
    "* Dash Core Components\n",
    "    * Separate library - `dash_core_components` aliased as `dcc`\n",
    "    * Many widgets that bundle together HTML/CSS and JavaScript\n",
    "    * Dropdown menus, radio buttons, tabs, and more\n",
    "    * Use `dcc.Graph` to add plotly figure\n",
    "* Dash Data Tables\n",
    "    * Separate Library - `dash_table`\n",
    "    * Provide data as a list of dictionaries. Use `df.to_dict('records')`\n",
    "    * Set style for whole table, each cell, just the headers, or just the data with `style_*` parameters\n",
    "* Dash Bootstrap Components\n",
    "    * Third-party library - `dash_bootstrap_components` - aliased as dbc\n",
    "    * Must set `external_stylesheets` in `Dash` constructor to a list of URLs of the specific flavor of Bootstrap you want.\n",
    "    * Many extra components not provided by `dash_core_components`\n",
    "* Callback functions\n",
    "    * Must be defined after `app.layout` is set\n",
    "    * Function and parameter names are arbitrary\n",
    "    * Decorate functions with `app.callback`\n",
    "    * Pass `app.callback` a list of the outputs, inputs, and states\n",
    "    * Use `Input`, `Output`, and `State` from `dash.dependencies` to target the component and its property\n",
    "        * Example: `Input(\"component-id\", \"component-property\")`\n",
    "    * Function must return a value for each of the outputs\n",
    "    * Raise the `dash.exceptions.PreventUpdate` exception if you don't want the function to update any component\n",
    "    * Every callback is called when the app first launches\n",
    "    * Each component may appear as an output in exactly one callback\n",
    "        * May need to combine many triggers into one function to work around this limitation\n",
    "    * Each component may appear as an input in ANY number of callbacks"
   ]
  }
 ],
 "metadata": {
  "celltoolbar": "Tags",
  "kernelspec": {
   "display_name": "Python 3 (ipykernel)",
   "language": "python",
   "name": "python3"
  },
  "language_info": {
   "codemirror_mode": {
    "name": "ipython",
    "version": 3
   },
   "file_extension": ".py",
   "mimetype": "text/x-python",
   "name": "python",
   "nbconvert_exporter": "python",
   "pygments_lexer": "ipython3",
   "version": "3.8.11"
  }
 },
 "nbformat": 4,
 "nbformat_minor": 4
}
