{
 "cells": [
  {
   "cell_type": "markdown",
   "metadata": {},
   "source": [
    "# Visualizations with Plotly\n",
    "\n",
    "In this chapter, we'll get introduced to the plotly library, which has the ability to create interactive data visualizations for the web. All previous chapters used matplotlib, which is a better tool for static visualizations.\n",
    "\n",
    "## Plotly vs Dash\n",
    "\n",
    "Both the plotly and dash libraries are products of the [company Plotly][1]. Both libraries are free and open source with an enterprise version available for extra features and services. The [plotly python library][2] is closely related to the [dash python library][3], but each have different purposes. The plotly library creates the visualizations, producing them as independent HTML and JavaScript files that can be embedded on any page, including Jupyter Notebooks.\n",
    "\n",
    "The dash library creates the dashboards with tools such as data tables, tabs, dropdowns, radio buttons, and many more widgets. It also runs the application, allowing an interactive experience for the users. All graphs in a dash application are created from the plotly library. We will build our dashboard with dash, but must learn enough plotly first to make our visualizations.\n",
    "\n",
    "## Introduction to Plotly\n",
    "\n",
    "The [plotly python library][2] is enormous and covering all details is out of scope for this course. This chapter presents the most relevant components of the library for our specific application. I suggest keeping the documentation open, so that you can have a reference to the official tutorials on all parts of the library. Before we get started, let's read in the `all_data.csv` file which has all of the historical and predicted data for all areas. The exact data that you have will depends on the last time you ran `python update.py` in the notebooks directory.\n",
    "\n",
    "[1]: https://plotly.com/\n",
    "[2]: https://plotly.com/python/\n",
    "[3]: https://plotly.com/dash/"
   ]
  },
  {
   "cell_type": "code",
   "execution_count": null,
   "metadata": {},
   "outputs": [],
   "source": [
    "import pandas as pd\n",
    "df_all = pd.read_csv('data/all_data.csv', parse_dates=['date'])\n",
    "df_all.tail()"
   ]
  },
  {
   "cell_type": "markdown",
   "metadata": {},
   "source": [
    "We'll select the state of Texas for our plotting examples and place the date in the index."
   ]
  },
  {
   "cell_type": "code",
   "execution_count": null,
   "metadata": {},
   "outputs": [],
   "source": [
    "df_texas = df_all.query('group == \"usa\" and area == \"Texas\"')\n",
    "df_texas = df_texas.set_index('date')\n",
    "df_texas.tail()"
   ]
  },
  {
   "cell_type": "markdown",
   "metadata": {},
   "source": [
    "We'll also read in the summary table which has a column containing the last date of known data."
   ]
  },
  {
   "cell_type": "code",
   "execution_count": null,
   "metadata": {},
   "outputs": [],
   "source": [
    "df_summary = pd.read_csv('data/summary.csv', parse_dates=['date'])\n",
    "df_summary.head()"
   ]
  },
  {
   "cell_type": "markdown",
   "metadata": {},
   "source": [
    "We assign this last known date to its own variable and calculate the first predicted date. These values will be useful when graphing the actual and predicted values separately."
   ]
  },
  {
   "cell_type": "code",
   "execution_count": null,
   "metadata": {
    "scrolled": true
   },
   "outputs": [],
   "source": [
    "last_date = df_summary['date'].iloc[0]\n",
    "first_pred_date = last_date + pd.Timedelta('1D')\n",
    "last_date, first_pred_date"
   ]
  },
  {
   "cell_type": "markdown",
   "metadata": {},
   "source": [
    "### General steps to create a plotly graph\n",
    "\n",
    "There are multiple ways to create graphs in plotly, but since this is not a comprehensive tutorial, we will show just a single straightforward path and use it for all of our graphs. The following three steps will be used to create our graphs:\n",
    "\n",
    "1. Create Figure - with `go.Figure` or `make_subplots`\n",
    "2. Add trace - with `fig.add_*`\n",
    "3. Update layout - with `fig.update_layout` or `fig.update_*`"
   ]
  },
  {
   "cell_type": "markdown",
   "metadata": {},
   "source": [
    "## Plotly Figure Object\n",
    "\n",
    "All of our plots begin with the creation of a plotly figure which is done by importing the `graph_objects` module. Here, it is imported an aliased as `go`. We then create an empty figure, assign it to a variable, and then output it to the screen."
   ]
  },
  {
   "cell_type": "code",
   "execution_count": null,
   "metadata": {},
   "outputs": [],
   "source": [
    "import plotly.graph_objects as go\n",
    "fig = go.Figure()\n",
    "fig"
   ]
  },
  {
   "cell_type": "markdown",
   "metadata": {},
   "source": [
    "### Adding traces\n",
    "\n",
    "All \"traces\" can be added to the figure with one of the `add_*` methods, where the `*` references one of the trace names. In plotly, a **trace** is one of several dozen different kinds of visualizations able to be added to a figure (scatter, bar, pie, histogram, etc...). In as few words as possible, a trace is a \"type of plot\". [Visit this reference page][1] to see a list of all possible traces in the left margin. Click on one of the traces to view a description of each parameter. \n",
    "\n",
    "Here, we create a scatter (and line) plot using the `add_scatter` method. We set `x` to be the index (containing the date) and `y` to be the column for deaths from our DataFrame. The `mode` parameter has three common settings:\n",
    "\n",
    "* `\"lines\"` - connect the points without showing the markers\n",
    "* `\"markers\"` - show just the markers\n",
    "* `\"lines+markers\"` - connect the points and show the markers\n",
    "\n",
    "There is no `add_line` method in plotly. Instead, use `add_scatter` with `mode` set to `\"lines\"` to create a line plot.\n",
    "\n",
    "[1]: https://plotly.com/python/reference/index/"
   ]
  },
  {
   "cell_type": "code",
   "execution_count": null,
   "metadata": {},
   "outputs": [],
   "source": [
    "x = df_texas.index\n",
    "y = df_texas['Deaths']\n",
    "fig = go.Figure()\n",
    "fig.add_scatter(x=x, y=y, mode=\"lines+markers\")"
   ]
  },
  {
   "cell_type": "markdown",
   "metadata": {},
   "source": [
    "### Updating the layout\n",
    "\n",
    "In plotly, the **layout** consists of the following graph properties plus several more:\n",
    "\n",
    "* height\n",
    "* width\n",
    "* title\n",
    "* xaxis/yaxis\n",
    "* legend\n",
    "* margin\n",
    "* annotations\n",
    "\n",
    "Here, we plot the same trace as above, but change the height and width (given in pixels) of the figure and provide a title."
   ]
  },
  {
   "cell_type": "code",
   "execution_count": null,
   "metadata": {},
   "outputs": [],
   "source": [
    "fig = go.Figure()\n",
    "fig.add_scatter(x=x, y=y, mode=\"lines+markers\")\n",
    "fig.update_layout(height=400, \n",
    "                  width=800,\n",
    "                  title=\"COVID-19 Deaths in Texas\")"
   ]
  },
  {
   "cell_type": "markdown",
   "metadata": {},
   "source": [
    "### Finding all of the layout properties\n",
    "\n",
    "The `update_layout` method does not show any of its properties in its docstrings. To view all of the layout properties, visit [this layout reference page][1]. You'll notice that many of the properties are **nested**, meaning that these properties have properties themselves that can be set using a dictionary.\n",
    "\n",
    "Another way to find the layout properties (while in a Jupyter Notebook) is to access the layout object directory using `fig.layout`. Place a single `.` after it and then **press tab**. A list of all properties will appear in a dropdown menu as seen in the image below.\n",
    "\n",
    "![2]\n",
    "\n",
    "From here, choose one of the properties and press **shift + tab + tab** to reveal the docstrings. Below, the docstrings for the `title` property are shown.\n",
    "\n",
    "![3]\n",
    "\n",
    "Let's set a more specific title using several of its properties with a dictionary. Notice that `font` is a further nested property with three more properties (color, family, and size). Find more information with `fig.layout.title.font` (pressing **shift + tab + tab**). The coordinates for `x` and `y` use the range 0 to 1 (relative position left to right and bottom to top).\n",
    "\n",
    "[1]: https://plotly.com/python/reference/layout/\n",
    "[2]: images/layout_props.png\n",
    "[3]: images/layout_docs.png"
   ]
  },
  {
   "cell_type": "code",
   "execution_count": null,
   "metadata": {},
   "outputs": [],
   "source": [
    "fig.update_layout(title={\n",
    "    \"text\": \"COVID-19 Deaths in Texas\",\n",
    "    \"x\": .5,\n",
    "    \"y\": .85,\n",
    "    \"font\": {\n",
    "        \"color\": \"blue\",\n",
    "        \"family\": \"dejavu sans\",\n",
    "        \"size\": 25\n",
    "    }\n",
    "})"
   ]
  },
  {
   "cell_type": "markdown",
   "metadata": {},
   "source": [
    "## Creating a figure with multiple traces\n",
    "\n",
    "Any number of traces may be added to the same figure. Here, we split the DataFrame into actual and predicted values and make two separate calls to the `add_scatter` method. The `name` parameter is used as a label in the legend. Notice, that the color of the second line will automatically be different than the first. The default color sequence for successive traces is titled \"Plotly\" and is [found here][1].\n",
    "\n",
    "[1]: https://plotly.com/python/discrete-color/#color-sequences-in-plotly-express"
   ]
  },
  {
   "cell_type": "code",
   "execution_count": null,
   "metadata": {},
   "outputs": [],
   "source": [
    "df_texas_actual = df_texas[:last_date]\n",
    "df_texas_pred = df_texas[first_pred_date:]\n",
    "fig = go.Figure()\n",
    "fig.add_scatter(x=df_texas_actual.index, \n",
    "                y=df_texas_actual['Deaths'], \n",
    "                mode=\"lines+markers\", \n",
    "                name='actual')\n",
    "fig.add_scatter(x=df_texas_pred.index, \n",
    "                y=df_texas_pred['Deaths'], \n",
    "                mode=\"lines+markers\", \n",
    "                name='prediction')\n",
    "fig.update_layout(height=400, width=800)"
   ]
  },
  {
   "cell_type": "markdown",
   "metadata": {},
   "source": [
    "### Exercise 26\n",
    "\n",
    "<span style=\"color:green; font-size:16px\">Write a function that accepts a group, area, and kind and returns a bar plot of the actual and predicted kind for that area.</span>"
   ]
  },
  {
   "cell_type": "code",
   "execution_count": null,
   "metadata": {},
   "outputs": [],
   "source": [
    "def area_bar_plot(df, group, area, kind, last_date, first_pred_date):\n",
    "    \"\"\"\n",
    "    Creates a bar plot of actual and predicted values for given kind \n",
    "    from one area\n",
    "    \n",
    "    Parameters\n",
    "    ----------\n",
    "    df - All data DataFrame\n",
    "    \n",
    "    group - \"world\" or \"usa\"\n",
    "    \n",
    "    area - A country or US state\n",
    "    \n",
    "    kind - \"Daily Deaths\", \"Daily Cases\", \"Deaths\", \"Cases\"\n",
    "\n",
    "    last_date - last known date of data\n",
    "\n",
    "    first_pred_date - first predicted date\n",
    "    \"\"\"\n",
    "    pass"
   ]
  },
  {
   "cell_type": "code",
   "execution_count": null,
   "metadata": {
    "scrolled": false
   },
   "outputs": [],
   "source": [
    "from solutions import area_bar_plot\n",
    "area_bar_plot(df_all, 'usa', 'New York', 'Cases', last_date, first_pred_date)"
   ]
  },
  {
   "cell_type": "markdown",
   "metadata": {},
   "source": [
    "## Creating subplots\n",
    "\n",
    "Multiple plots within a single figure can be created with the `make_subplots` function from the `subplots` module. It creates a rectangular grid of subplots using the provided `rows` and `cols` parameters. To add a trace to a specific subplot, use the `row` and `col` parameters in the `add_*` methods. Here, we plot both actual and predicted traces for both daily deaths and cases."
   ]
  },
  {
   "cell_type": "code",
   "execution_count": null,
   "metadata": {},
   "outputs": [],
   "source": [
    "from plotly.subplots import make_subplots\n",
    "fig = make_subplots(rows=2, cols=1)\n",
    "\n",
    "# top subplot\n",
    "fig.add_scatter(x=df_texas_actual.index, \n",
    "                y=df_texas_actual['Deaths'], \n",
    "                mode=\"lines+markers\", \n",
    "                name='actual',\n",
    "                row=1,\n",
    "                col=1)\n",
    "fig.add_scatter(x=df_texas_pred.index, \n",
    "                y=df_texas_pred['Deaths'], \n",
    "                mode=\"lines+markers\", \n",
    "                name='prediction',\n",
    "                row=1,\n",
    "                col=1)\n",
    "\n",
    "# bottom subplot\n",
    "fig.add_scatter(x=df_texas_actual.index, \n",
    "                y=df_texas_actual['Cases'], \n",
    "                mode=\"lines+markers\", \n",
    "                name='actual',\n",
    "                row=2,\n",
    "                col=1)\n",
    "fig.add_scatter(x=df_texas_pred.index, \n",
    "                y=df_texas_pred['Cases'], \n",
    "                mode=\"lines+markers\", \n",
    "                name='prediction',\n",
    "                row=2,\n",
    "                col=1)"
   ]
  },
  {
   "cell_type": "markdown",
   "metadata": {},
   "source": [
    "### Cleaning up the subplots\n",
    "\n",
    "While we have our traces plotted correctly, there are a few changes we can make to improve this graph. The colors for the actual/prediction should be the same in each graph and repeated names in the legend should be removed. Below, we write a nested for-loop to iterate over the kinds (\"Deaths\" and \"Cases\") and again over the actual and predicted DataFrames, which are stored in a dictionary. We choose the first two colors from the T10 qualitative color sequence (this is Tableau's default colors).\n",
    "\n",
    "To prevent the legend from repeating the same names, we use the `update_traces` method, which allows us to specify which subplot to hide the legend. The `update_layout` method uses the same parameter `showlegend`, but applies its changes to ALL subplots. There are several other `update_*` methods that allow you to specify the subplot. Use the `update_layout` method when you want to change a property for the entire figure."
   ]
  },
  {
   "cell_type": "code",
   "execution_count": null,
   "metadata": {},
   "outputs": [],
   "source": [
    "from plotly.colors import qualitative\n",
    "COLORS = qualitative.T10[:2]\n",
    "KINDS = 'Deaths', 'Cases'\n",
    "dfs = {'actual': df_texas_actual, 'prediction': df_texas_pred}\n",
    "\n",
    "fig = make_subplots(rows=2, cols=1, vertical_spacing=.1)\n",
    "for row, kind in enumerate(KINDS, start=1):\n",
    "    for i, (name, df) in enumerate(dfs.items()):\n",
    "        fig.add_scatter(x=df.index, \n",
    "                        y=df[kind], \n",
    "                        mode=\"lines+markers\", \n",
    "                        name=name,\n",
    "                        line={\"color\": COLORS[i]},\n",
    "                        row=row,\n",
    "                        col=1)\n",
    "    \n",
    "fig.update_traces(showlegend=False, row=2, col=1)\n",
    "fig.update_layout(title={\"text\": \"Texas\", \"x\": 0.5, \"y\": 0.97, \"font\": {\"size\": 20}})\n",
    "fig"
   ]
  },
  {
   "cell_type": "markdown",
   "metadata": {},
   "source": [
    "## Adding annotations\n",
    "\n",
    "The `make_subplots` function allows you to set the titles with the `subplot_titles` parameter, but does not give you control over any of its properties (color, size, font, etc...). You can only provide it text. To create titles with any non-default properties, you'll need to make an annotation using either the `add_annotation` method or the `update_layout` method. We choose the latter below to add two annotations (they act as titles for our subplots).\n",
    "\n",
    "You must set the `annotations` parameter within `update_layout` to be a list of dictionaries, with each dictionary representing a single annotation. If all annotations share some properties, you can provide all of the shared properties to the `update_annotations` method instead of repeating them in the `update_layout` method. \n",
    "\n",
    "The `xref`/`yref` refer to the coordinate system used for `x` and `y`. When set to \"paper\", the values correspond to the proportion of the figure and must be in the range 0 to 1. Since plotly produces HTML, to make the text bold, we wrap the text in `<b></b>` tags.\n",
    "\n",
    "The margin is the space between the four edges of the plot and the figure. They default to 80 pixels for the left and right margins and 100 for the top and bottom. We decrease this space so that the plots fill out more of the figure. We also move the legend below the bottom subplot. This graph should now look almost exactly like the one in the dashboard."
   ]
  },
  {
   "cell_type": "code",
   "execution_count": null,
   "metadata": {
    "scrolled": false
   },
   "outputs": [],
   "source": [
    "fig.update_layout(\n",
    "            annotations=[\n",
    "                {\"y\": 0.95, \"text\": \"<b>Deaths</b>\"},\n",
    "                {\"y\": 0.3, \"text\": \"<b>Cases</b>\"},\n",
    "            ],\n",
    "            margin={\"t\": 40, \"l\": 50, \"r\": 10, \"b\": 0},\n",
    "            legend={\n",
    "                \"x\": 0.5, \n",
    "                \"y\": -0.05, \n",
    "                \"xanchor\": \"center\", \n",
    "                \"orientation\": \"h\", \n",
    "                \"font\": {\"size\": 15}},\n",
    "        )\n",
    "annot_props = {\n",
    "        \"x\": 0.1,\n",
    "        \"xref\": \"paper\",\n",
    "        \"yref\": \"paper\",\n",
    "        \"xanchor\": \"left\",\n",
    "        \"showarrow\": False,\n",
    "        \"font\": {\"size\": 18},\n",
    "    }\n",
    "fig.update_annotations(annot_props)\n",
    "fig"
   ]
  },
  {
   "cell_type": "markdown",
   "metadata": {},
   "source": [
    "## Choropleth maps\n",
    "\n",
    "The [choropleth trace][1] creates a variety of polygons (countries and US states for our project) colored by the value of a given numeric variable. Let's create the default (base) map by creating a figure and then calling `add_choropleth` with no arguments.\n",
    "\n",
    "[1]: https://plotly.com/python/reference/choropleth/"
   ]
  },
  {
   "cell_type": "code",
   "execution_count": null,
   "metadata": {},
   "outputs": [],
   "source": [
    "fig = go.Figure()\n",
    "fig.add_choropleth()"
   ]
  },
  {
   "cell_type": "markdown",
   "metadata": {},
   "source": [
    "### Coloring countries by deaths\n",
    "\n",
    "Let's read in the summary table and select the world group to get a single row of data per country. We also filter for countries with at least 1 million in population."
   ]
  },
  {
   "cell_type": "code",
   "execution_count": null,
   "metadata": {},
   "outputs": [],
   "source": [
    "df_world = df_summary.query(\"group == 'world' and population > 1\")\n",
    "df_world.head(3)"
   ]
  },
  {
   "cell_type": "markdown",
   "metadata": {},
   "source": [
    "Each country has a [standardized ISO-3 code][1] that plotly understands. Let's assign these codes and the deaths column as their own variables.\n",
    "\n",
    "[1]: https://en.wikipedia.org/wiki/ISO_3166-1_alpha-3"
   ]
  },
  {
   "cell_type": "code",
   "execution_count": null,
   "metadata": {},
   "outputs": [],
   "source": [
    "locations = df_world['code']\n",
    "z = df_world['Deaths']"
   ]
  },
  {
   "cell_type": "markdown",
   "metadata": {},
   "source": [
    "Let's recreate the choropleth with this information, setting the parameter `z` to the total number of deaths. We select a continuous color scale called \"orrd\". Find [all continuous color scales here][1].\n",
    "\n",
    "[1]: https://plotly.com/python/builtin-colorscales/"
   ]
  },
  {
   "cell_type": "code",
   "execution_count": null,
   "metadata": {},
   "outputs": [],
   "source": [
    "fig = go.Figure()\n",
    "fig.add_choropleth(locations=locations, z=z, zmin=0, colorscale=\"orrd\")\n",
    "fig.update_layout(margin={\"t\": 0, \"l\": 10, \"r\": 10, \"b\": 0})"
   ]
  },
  {
   "cell_type": "markdown",
   "metadata": {},
   "source": [
    "### Selecting a better range and projection\n",
    "\n",
    "It's unnecessary to show the very northern and southern areas of the world as well as the swath of emptiness in the Pacific Ocean. There are also a large number of [projections][1] to choose from. Projection \"robinson\" is chosen below, but feel free to experiment with others. We can select the latitude and longitude range, and the projection by setting the `geo` parameter in `update_layout`.\n",
    "\n",
    "[1]: https://plotly.com/python/map-configuration/#map-projections"
   ]
  },
  {
   "cell_type": "code",
   "execution_count": null,
   "metadata": {},
   "outputs": [],
   "source": [
    "fig = go.Figure()\n",
    "fig.add_choropleth(locations=locations, z=z, zmin=0, colorscale=\"orrd\",  marker_line_width=0.5)\n",
    "fig.update_layout(\n",
    "    geo={\n",
    "        \"showframe\": False,\n",
    "        \"lataxis\": {\"range\": [-37, 68]},\n",
    "        \"lonaxis\": {\"range\": [-130, 150]},\n",
    "        \"projection\": {\"type\": \"robinson\"}\n",
    "    },\n",
    "    margin={\"t\": 0, \"l\": 10, \"r\": 10, \"b\": 0})"
   ]
  },
  {
   "cell_type": "markdown",
   "metadata": {},
   "source": [
    "### Customizing the hover text\n",
    "\n",
    "Hovering over each country shows only the value of `z` and the country code like in the image below.\n",
    "\n",
    "![1]\n",
    "\n",
    "We can customize this text to be anything we desire by supplying a sequence of the exact string to display for each country. The `hover_text` function below is applied to each row in the `df_world` DataFrame to create a long string of all of the data nicely formatted with line breaks (`<br>`) between each statistic. The DataFrame `apply` method is used to iterate over each row and apply this function to the values. The string for each of the first few rows is outputted below.\n",
    "\n",
    "[1]: images/hovertext.png"
   ]
  },
  {
   "cell_type": "code",
   "execution_count": null,
   "metadata": {},
   "outputs": [],
   "source": [
    "def hover_text(x):\n",
    "    name = x[\"area\"]\n",
    "    deaths = x[\"Deaths\"]\n",
    "    cases = x[\"Cases\"]\n",
    "    deathsm = x[\"Deaths per Million\"]\n",
    "    casesm = x[\"Cases per Million\"]\n",
    "    pop = x[\"population\"]\n",
    "    return (\n",
    "        f\"<b>{name}</b><br>\"\n",
    "        f\"Deaths - {deaths:,.0f}<br>\"\n",
    "        f\"Cases - {cases:,.0f}<br>\"\n",
    "        f\"Deaths per Million - {deathsm:,.0f}<br>\"\n",
    "        f\"Cases per Million - {casesm:,.0f}<br>\"\n",
    "        f\"Population - {pop:,.0f}M\"\n",
    "    )\n",
    "\n",
    "text = df_world.apply(hover_text, axis=1)\n",
    "text.head()"
   ]
  },
  {
   "cell_type": "markdown",
   "metadata": {},
   "source": [
    "Set the hover text with the `text` parameter, and force plotly to just use this provided text by setting `hoverinfo` to \"text\"."
   ]
  },
  {
   "cell_type": "code",
   "execution_count": null,
   "metadata": {},
   "outputs": [],
   "source": [
    "fig = go.Figure()\n",
    "fig.add_choropleth(locations=locations, z=z, zmin=0, colorscale=\"orrd\", \n",
    "                   marker_line_width=0.5, text=text, hoverinfo=\"text\")\n",
    "fig.update_layout(\n",
    "    geo={\n",
    "        \"showframe\": False,\n",
    "        \"lataxis\": {\"range\": [-37, 68]},\n",
    "        \"lonaxis\": {\"range\": [-130, 150]},\n",
    "        \"projection\": {\"type\": \"robinson\"}\n",
    "    },\n",
    "    margin={\"t\": 0, \"l\": 10, \"r\": 10, \"b\": 0})"
   ]
  },
  {
   "cell_type": "markdown",
   "metadata": {},
   "source": [
    "### USA Choropleth\n",
    "\n",
    "There are two differences when making a similar map for the USA. Set the `locationmode` parameter to \"USA-states\" so that plotly recognizes the two-character state code and choose the projection to be \"albers usa\" which moves Alaska and Hawaii near the other 48 states. Here, we color by \"Cases per Million\"."
   ]
  },
  {
   "cell_type": "code",
   "execution_count": null,
   "metadata": {},
   "outputs": [],
   "source": [
    "df_states = df_summary.query(\"group == 'usa'\")\n",
    "locations = df_states['code']\n",
    "z = df_states['Cases per Million']\n",
    "text = df_states.apply(hover_text, axis=1)\n",
    "\n",
    "fig = go.Figure()\n",
    "fig.add_choropleth(locations=locations, locationmode='USA-states', z=z, zmin=0, \n",
    "                   colorscale=\"orrd\", marker_line_width=0.5, text=text, hoverinfo=\"text\")\n",
    "fig.update_layout(\n",
    "    geo={\n",
    "        \"showframe\": False,\n",
    "        \"projection\": {\"type\": \"albers usa\"}\n",
    "    },\n",
    "    margin={\"t\": 0, \"l\": 10, \"r\": 10, \"b\": 0})"
   ]
  },
  {
   "cell_type": "markdown",
   "metadata": {},
   "source": [
    "## Plotly Summary\n",
    "\n",
    "Plotly is a great tool for creating interactive data visualizations for the web. The three main steps for creating a visualization are:\n",
    "\n",
    "1. Create Figure - with `go.Figure` or `make_subplots`\n",
    "2. Add trace - with `fig.add_*`\n",
    "3. Update layout - with `fig.update_layout` or `fig.update_*`\n",
    "\n",
    "### Traces\n",
    "\n",
    "* A trace is plotly terminology for a \"kind of plot\" (scatter, bar, pie, box, choropleth, etc...)\n",
    "* Find the trace you want on [the left side of this page][1]\n",
    "    * Or type `fig.add_` and press tab\n",
    "* Read documentation for a specific trace once selected e.g. `fig.add_scatter` -> shift + tab + tab\n",
    "* Add as many traces as you want to one figure\n",
    "\n",
    "### Layout\n",
    "\n",
    "* The layout is where properties such as height, width, title, xaxis/yaxis, legend, annotations, etc... are set\n",
    "* Use `fig.update_layout` to set properties for entire figure\n",
    "* Documentation does NOT show parameters with `fig.update_layout`\n",
    "    * Discover them with `fig.layout.` + tab\n",
    "    * Read documentation on specific property `fig.layout.title` -> shift + tab + tab\n",
    "    \n",
    "### Subplots\n",
    "\n",
    "* Create grid of subplots with `make_subplots` using `rows` and `cols`\n",
    "* All trace methods, `fig.add_*`, have `row` and `col` to specify subplot\n",
    "* Use `fig.update_layout` to change properties on entire figure\n",
    "* Other `fig.update_*` methods exist that have `row` and `col` parameters to change specific subplot\n",
    "\n",
    "### Choropleth\n",
    "\n",
    "* Colored polygons (countries and states for our project)\n",
    "* Some properties are in `fig.add_choropleth`, others are in `fig.update_layout` using `geo` parameter\n",
    "* Set `locations` to be code (ISO-3 for countries and two-character abbreviation for states)\n",
    "* Set `locationmode` to be \"USA-States\" for USA\n",
    "* Set projection and range (`latrange`/`lonrange`) for world\n",
    "* Set projection to be \"albers usa\" for usa\n",
    "\n",
    "\n",
    "## More to Plotly\n",
    "\n",
    "The purpose of this chapter was to provide you with a simple and straightforward approach to using plotly for our project. There is much more to the library and multiple ways to interface with it. One newer and popular way for creating plotly graphs is with [plotly express][2], which is similar to the seaborn libray, in that it automatically groups and aggregates values for you. If you are interested in learning more about plotly, I would recommend waiting until after the completion of this course, as there is already a tremendous number of items covered and getting side tracked on the details of plotly will not help. The methods taught in this chapter (create figure, add trace, update layout) should give you the power to create nearly any plot and style it as you desire.\n",
    "\n",
    "[1]: https://plotly.com/python/reference/index/\n",
    "[2]: https://plotly.com/python/plotly-express/"
   ]
  }
 ],
 "metadata": {
  "kernelspec": {
   "display_name": "Python 3 (ipykernel)",
   "language": "python",
   "name": "python3"
  },
  "language_info": {
   "codemirror_mode": {
    "name": "ipython",
    "version": 3
   },
   "file_extension": ".py",
   "mimetype": "text/x-python",
   "name": "python",
   "nbconvert_exporter": "python",
   "pygments_lexer": "ipython3",
   "version": "3.8.11"
  }
 },
 "nbformat": 4,
 "nbformat_minor": 4
}
