{
 "cells": [
  {
   "cell_type": "markdown",
   "metadata": {},
   "source": [
    "# Intro to HTML and CSS\n",
    "\n",
    "In this chapter, a brief introduction to HTML and CSS, the building blocks of all web pages, will be presented. As this topic can fill several volumes of text, only the basics necessary to understand the dashboard will be shown. Along the way, many references will be made to the [MDN web docs][1] from Mozilla, an excellent source for HTML/CSS material.\n",
    "\n",
    "## What is a web page?\n",
    "\n",
    "A simple web page is composed of HTML, a language to describe the components of the page, and CSS, a language to arrange and add style to the components. Your web browser is what is responsible for interpreting the HTML and CSS and  rendering it as the web page you see.\n",
    "\n",
    "## Intro to HTML\n",
    "\n",
    "HTML is composed of **elements**, which are the components of a web page. Each element has a specific **tag** that is used to define it. A tag is a name surrounded by **angle brackets**. [Visit this page][2] to view all 100+ HTML elements.\n",
    "\n",
    "### Common HTML elements\n",
    "\n",
    "The most common elements with their tags are shown below and are linked to their MDN page with a detailed description.\n",
    "\n",
    "* [`<p>`][3] - paragraph of text\n",
    "* [`<h1>`, `<h2>`, `<h6>`][4] - largest, second largest, and smallest headers\n",
    "* [`<a>`][5] - anchor, a clickable hyperlink\n",
    "* [`<img>`][6] - image\n",
    "* [`<ul>`][7] - unordered list\n",
    "* [`<ol>`][8] - ordered list\n",
    "* [`<li>`][9] - list element\n",
    "* [`<table>`][10] - table with rows and columns\n",
    "* [`<div>`][11] - logical division of content. Does not affect structure without CSS\n",
    "\n",
    "[1]: https://developer.mozilla.org/en-US/docs/Learn\n",
    "[2]: https://developer.mozilla.org/en-US/docs/Web/HTML/Element\n",
    "[3]: https://developer.mozilla.org/en-US/docs/Web/HTML/Element/p\n",
    "[4]: https://developer.mozilla.org/en-US/docs/Web/HTML/Element/Heading_Elements\n",
    "[5]: https://developer.mozilla.org/en-US/docs/Web/HTML/Element/a\n",
    "[6]: https://developer.mozilla.org/en-US/docs/Web/HTML/Element/img\n",
    "[7]: https://developer.mozilla.org/en-US/docs/Web/HTML/Element/ul\n",
    "[8]: https://developer.mozilla.org/en-US/docs/Web/HTML/Element/ol\n",
    "[9]: https://developer.mozilla.org/en-US/docs/Web/HTML/Element/li\n",
    "[10]: https://developer.mozilla.org/en-US/docs/Web/HTML/Element/table\n",
    "[11]: https://developer.mozilla.org/en-US/docs/Web/HTML/Element/div"
   ]
  },
  {
   "cell_type": "markdown",
   "metadata": {},
   "source": [
    "### Creating HTML elements\n",
    "\n",
    "Most HTML elements are created with opening and closing tags surrounding the content. This image courtesy of MDN shows the basic structure of an HTML element.\n",
    "\n",
    "![1]\n",
    "\n",
    "### Element attributes\n",
    "\n",
    "HTML elements can have attributes that change the appearance or functionality of the element. Different elements will have different attributes. They are similar to function parameters in Python. Again, courtesy of MDN, we see an attribute within the paragraph element.\n",
    "\n",
    "![2]\n",
    "\n",
    "Attributes will always appear **within the opening tag**, are followed by an equal sign and contain their value within quotes.\n",
    "\n",
    "### Global attributes\n",
    "\n",
    "There are two kinds of element attributes, **global** attributes and **element-specific** attributes. [Global attributes][3] are available to every single HTML element. The most common two are `class` and `id`, which help identify a group of similar elements or a single element, and are useful when applying CSS. Element-specific attributes are those available to a single element, such as `href` for the anchor element `<a>`.\n",
    "\n",
    "### Empty elements\n",
    "\n",
    "A few elements have only opening tags. They have no content and no closing tag. However, they can have attributes. The image tag, `<img>`, is probably the most common one, with an example below. A list of all the [empty elements can be found here][3].\n",
    "\n",
    "```html\n",
    "<img src=\"images/cover.png\">\n",
    "```\n",
    "\n",
    "[1]: images/html_element.png\n",
    "[2]: images/attribute.png\n",
    "[3]: https://developer.mozilla.org/en-US/docs/Web/HTML/Global_attributes\n",
    "[4]: https://developer.mozilla.org/en-US/docs/Glossary/Empty_element"
   ]
  },
  {
   "cell_type": "markdown",
   "metadata": {},
   "source": [
    "## Writing HTML in the notebook\n",
    "\n",
    "You can write HTML directly in a code cell of a Jupyter Notebook by using the `%%html` magic command as the first line in that cell, passing it the option `--isolated` so that it does not interact with any of the other HTML or CSS on the page. The cell contents will be interpreted as HTML and not python. Here, we create two different headers and two paragraphs with the rendered HTML below."
   ]
  },
  {
   "cell_type": "code",
   "execution_count": null,
   "metadata": {
    "tags": [
     "html1"
    ]
   },
   "outputs": [],
   "source": [
    "%%html --isolated\n",
    "\n",
    "<h1>Our first HTML</h1>\n",
    "<p>This is an HTML paragraph element </p>\n",
    "<h3>HTML elements have opening and closing tags surrounding content</h4>\n",
    "<p>The elements have attributes in the opening tag</p>"
   ]
  },
  {
   "cell_type": "markdown",
   "metadata": {},
   "source": [
    "## Examples of common elements\n",
    "\n",
    "In this section we'll create examples of the most common HTML elements. Make sure to click on the links to MDN's documentation to read more about each element and to see its list of element-specific attributes. Two of the simplest elements are the headers, `<h1>` through `<h6>`, and the paragraph, `<p>`, which we saw above. We'll continue with other elements below.\n",
    "\n",
    "\n",
    "### The \"anchor\" element - creating hyperlinks - `<a>`\n",
    "\n",
    "The [anchor element][1], created with the `<a>` tag, makes hyperlinks by setting the `href` attribute to the URL. The content will be underlined and colored blue in most browsers. When hovering over it, the cursor will transform into a hand with an index finger. We also set the `target` attribute to `\"_blank\"`, which will open the link in a new tab. By default, the browser navigates away from the current page, remaining in the current tab.\n",
    "\n",
    "[1]: https://developer.mozilla.org/en-US/docs/Web/HTML/Element/a"
   ]
  },
  {
   "cell_type": "code",
   "execution_count": null,
   "metadata": {
    "tags": [
     "html2"
    ]
   },
   "outputs": [],
   "source": [
    "%%html --isolated\n",
    "\n",
    "<a href=\"https://coronavirus.dunderdata.com\" target=\"_blank\">Coronavirus Dashboard</a>"
   ]
  },
  {
   "cell_type": "markdown",
   "metadata": {},
   "source": [
    "### The image element - `<img>`\n",
    "\n",
    "The [image element][1] embeds images into the document using the empty `<img>` tag. It's main attribute is `src` which is required and set to the URL of the image. You can link to a local image, as we do below. We also use the `height` attribute to set its height in pixels, which automatically scales the width along with it. Take note that there is no content or closing tag with `<img>` as it is an empty tag.\n",
    "\n",
    "[1]: https://developer.mozilla.org/en-US/docs/Web/HTML/Element/img"
   ]
  },
  {
   "cell_type": "code",
   "execution_count": null,
   "metadata": {
    "scrolled": true,
    "tags": [
     "html3"
    ]
   },
   "outputs": [],
   "source": [
    "%%html --isolated \n",
    "\n",
    "<img src=\"images/dash.png\" height=\"300\">"
   ]
  },
  {
   "cell_type": "markdown",
   "metadata": {},
   "source": [
    "### Unordered and ordered lists and list items - `<ul>`, `<ol>`, and `<li>`\n",
    "\n",
    "Both [unordered][1] (`<ul>`) and [ordered][2] (`<ol>`) lists require **nesting** elements - placing elements within another element's content section. Nested elements are usually indented to help indicate visually that it is nested. The outer element is referred to as the **parent** and the nested element as the **child**. \n",
    "\n",
    "Both unordered and ordered lists use the [list item element][3], `<li>`, as their nested child element. Concretely, `<li>` must appear within `<ul>` or `<ol>`. Here, we create an unordered list nested with two further unordered lists and an ordered list.\n",
    "\n",
    "[1]: https://developer.mozilla.org/en-US/docs/Web/HTML/Element/ul\n",
    "[2]: https://developer.mozilla.org/en-US/docs/Web/HTML/Element/ol\n",
    "[3]: https://developer.mozilla.org/en-US/docs/Web/HTML/Element/li"
   ]
  },
  {
   "cell_type": "code",
   "execution_count": null,
   "metadata": {
    "tags": [
     "html4"
    ]
   },
   "outputs": [],
   "source": [
    "%%html --isolated\n",
    "\n",
    "<h3>There are over 100 HTML elements</h3>\n",
    "<ul>\n",
    "    <li>anchor element</li>\n",
    "    <ul>\n",
    "        <li>href - URL of hyperlink</li>\n",
    "        <li>target</li>\n",
    "        <ul>\n",
    "            <li>\"_self\" - opens link in current tab</li>\n",
    "            <li>\"_blank\" - opens link in new tab</li>\n",
    "        </ul>\n",
    "    </ul>\n",
    "</ul>\n",
    "\n",
    "<h3>Data Steps</h3>\n",
    "<ol>\n",
    "    <li>Collect data</li>\n",
    "    <li>Clean data</li>\n",
    "    <li>Smooth data</li>\n",
    "    <li>Model data</li>\n",
    "</ol>"
   ]
  },
  {
   "cell_type": "markdown",
   "metadata": {},
   "source": [
    "### Table elements - `<table>`\n",
    "\n",
    "The HTML table, `<table>`, is one of the more complex elements requiring nesting of the table header `<thead>` and table body `<tbody>`, and within those, the rows `<tr>`, and within that, the row/column headers `<th>` and the table data `<td>`. There are four levels to the table hierarchy shown below.\n",
    "\n",
    "* `<table>`\n",
    "    * `<thead>`\n",
    "        * `<tr>`\n",
    "            * `<th>` or `<td>`\n",
    "    * `<tbody>`\n",
    "        * `<tr>`\n",
    "            * `<th>` or `<td>`\n",
    "            \n",
    "The `thead` and `tbody` tags are not strictly necessary to create a table and it will render the same way without them, but it is considered good practice, as it logically separates the two elements. The table head,`<th>`, and table data, `<td>`, elements are similar and children of the table row, `<tr>`. Although the first element of each table row uses `<th>`, this isn't necessary. They can all be either `<th>` or `<td>`.\n",
    "\n",
    "There are only global attributes available to `<table>`, `<thead>`, `<tbody>`, and `<tr>`. Both `<th>` and `<td>` have element-specific attributes, with `rowspan` and `colspan` being common. Set those equal to an integer for the element to span multiple rows and/or columns."
   ]
  },
  {
   "cell_type": "code",
   "execution_count": null,
   "metadata": {
    "tags": [
     "html5"
    ]
   },
   "outputs": [],
   "source": [
    "%%html --isolated\n",
    "<table>\n",
    "    <thead>\n",
    "        <tr>\n",
    "            <th>Area</th>\n",
    "            <th>Deaths</th>\n",
    "            <th>Cases</th>\n",
    "        </tr>\n",
    "    </thead>\n",
    "    \n",
    "    <tbody>\n",
    "        <tr>\n",
    "            <th>Texas</th>\n",
    "            <td>10</td>\n",
    "            <td>20</td>\n",
    "        </tr>\n",
    "        \n",
    "        <tr>\n",
    "            <th>Florida</th>\n",
    "            <td>8</td>\n",
    "            <td>17</td>\n",
    "        </tr>\n",
    "        \n",
    "        <tr>\n",
    "            <th>Alaska</th>\n",
    "            <td>2</td>\n",
    "            <td>6</td>\n",
    "        </tr>\n",
    "        \n",
    "        <tr>\n",
    "            <th colspan=\"3\">Countries</th>\n",
    "        </tr>\n",
    "        \n",
    "        <tr>\n",
    "            <th>Brazil</th>\n",
    "            <td>21</td>\n",
    "            <td>116</td>\n",
    "        </tr>\n",
    "    </tbody>\n",
    "</table>"
   ]
  },
  {
   "cell_type": "markdown",
   "metadata": {},
   "source": [
    "### Logical division of content - `<div>` - the element that does (almost) nothing\n",
    "\n",
    "The [content division element][1], `<div>`, is used to logically group together sections of your page. It has no effect on the content until you style that section with CSS. A `<div>` has no element-specific attributes, but is usually labeled with the `class` or `id` global attributes so it can be referenced in CSS. Here, we've used `div` to logically divide the page into two sections, using the `id` attribute to label them as either \"html_info\" or \"data_info\". This is the exact same HTML as presented in the unordered and ordered lists section above and will render the exact same. In the future, we can reference one of the sections using its `id` for styling with CSS.\n",
    "\n",
    "[1]: https://developer.mozilla.org/en-US/docs/Web/HTML/Element/div"
   ]
  },
  {
   "cell_type": "code",
   "execution_count": null,
   "metadata": {
    "tags": [
     "html4"
    ]
   },
   "outputs": [],
   "source": [
    "%%html --isolated\n",
    "\n",
    "<div id=\"html_info\">\n",
    "    <h3>There are over 100 HTML elements</h3>\n",
    "    <ul>\n",
    "        <li>anchor element</li>\n",
    "        <ul>\n",
    "            <li>href - URL of hyperlink</li>\n",
    "            <li>target</li>\n",
    "            <ul>\n",
    "                <li>\"_self\" - opens link in current tab</li>\n",
    "                <li>\"_blank\" - opens link in new tab</li>\n",
    "            </ul>\n",
    "        </ul>\n",
    "    </ul>\n",
    "</div>\n",
    "\n",
    "<div id=\"data_info\">\n",
    "    <h3>Data Steps</h3>\n",
    "    <ol>\n",
    "        <li>Collect data</li>\n",
    "        <li>Clean data</li>\n",
    "        <li>Smooth data</li>\n",
    "        <li>Model data</li>\n",
    "    </ol>\n",
    "</div>"
   ]
  },
  {
   "cell_type": "markdown",
   "metadata": {},
   "source": [
    "## HTML Syntax\n",
    "\n",
    "HTML is not a programming language, but a **markup** language. It cannot be used to solve technical problems, run logical conditions, iterate with loops, do calculations, etc... It simply describes the components of the page. A web browser is needed to interpret the tags and render them on your screen.\n",
    "\n",
    "One interesting fact about HTML is that your browser will always render it, regardless of its format, no matter how many mistakes there are in it. You can forget closing tags, have typos, not nest elements properly, and yet all browsers will render something. While this can be good, in that a website won't be brought down because of a forgotten closing tag, it can make debugging much harder. Fortunately, there are many tools, both in the browser and in modern editors that can make finding these mistakes much easier. We will not be writing HTML directly, so we won't have to worry about this.\n",
    "\n",
    "Whitespace in your HTML will mostly be ignored. You can write all your HTML on a single line and the browser will not complain. However, if you have consecutive white spaces inside the content of certain elements such as headers and paragraphs, they will be treated as a single space."
   ]
  },
  {
   "cell_type": "code",
   "execution_count": null,
   "metadata": {
    "tags": [
     "html6"
    ]
   },
   "outputs": [],
   "source": [
    "%%html --isolated\n",
    "\n",
    "<p>Words      separated     by    many spaces     only  render as a single space</p>"
   ]
  },
  {
   "cell_type": "markdown",
   "metadata": {},
   "source": [
    "## Block vs Inline elements\n",
    "\n",
    "All elements are classified as either **block** or **inline**.\n",
    "\n",
    "* [Block elements][1]:\n",
    "    * Are placed on a new line of their own\n",
    "    * Have their width as large as the screen (or their parent, if nested)\n",
    "* [Inline elements][2]:\n",
    "    * Remain in the current line they are in\n",
    "    * Have width only as wide as necessary to fit in the line\n",
    "    \n",
    "This division between block and inline elements will become clearer once we add some styling. But, before we do that, take a look at the following HTML to see if you can determine which elements are block and which are inline.\n",
    "\n",
    "[1]: https://developer.mozilla.org/en-US/docs/Web/HTML/Block-level_elements\n",
    "[2]: https://developer.mozilla.org/en-US/docs/Web/HTML/Inline_elements"
   ]
  },
  {
   "cell_type": "code",
   "execution_count": null,
   "metadata": {
    "tags": [
     "html7"
    ]
   },
   "outputs": [],
   "source": [
    "%%html --isolated \n",
    "\n",
    "<h3>Quiz - Can you determine whether an element is block or inline?</h3>\n",
    "<p>Some paragraph of text</p>\n",
    "<p>Another paragraph</p>   <p>YET Another paragraph</p>\n",
    "<p>A paragraph with a <a href=\"https://google.com\">link to google</a> inside of it</p>\n",
    "<p>How about images?</p>\n",
    "<img src=\"images/dash.png\" height=\"100\">\n",
    "<img src=\"images/dash.png\" height=\"100\">"
   ]
  },
  {
   "cell_type": "markdown",
   "metadata": {},
   "source": [
    "If the element is placed on a separate line, then its a block-level element. If it remains on the same line, then it's inline. All headers and the paragraph elements are block-level. Even if there is space for the contents of a paragraph to fit on the same line as another element, it will always be placed on a separate line.\n",
    "\n",
    "Anchor elements are inline and remain in the same line as the elements they are placed within. Images are also inline as each of the two above are placed in the same line."
   ]
  },
  {
   "cell_type": "markdown",
   "metadata": {},
   "source": [
    "## Styling with CSS\n",
    "\n",
    "Cascading Stylesheets, or CSS, is the language used to style the elements and control their position on the page. It is completely different than HTML with its own syntax. It's best to write CSS in a separate file and link it to the HTML page via the [empty `<link>` element][1]. For example, you would place the following in your HTML and write your CSS in the `style.css` file.\n",
    "\n",
    "```html\n",
    "<link href=\"style.css\" rel=\"stylesheet\">\n",
    "```\n",
    "\n",
    "CSS can also be placed within the style HTML element, `<style>`, which we will do in this notebook. This is done so that we have it together in the same cell with the HTML. For our project, the CSS will be written in a separate file.\n",
    "\n",
    "[1]: https://developer.mozilla.org/en-US/docs/Web/HTML/Element/link"
   ]
  },
  {
   "cell_type": "markdown",
   "metadata": {},
   "source": [
    "### Basic CSS Syntax\n",
    "\n",
    "The goal of CSS is to change the properties of particular HTML elements. We change the properties by creating **rules**. A rule consists of a **selector** and the **property-value pairs**. A selector selects one or more elements to apply the styling. There are many ways to select elements with the most basic being by tag, class name, or id. The generic syntax for a single CSS rule is as follows:\n",
    "\n",
    "\n",
    "```css\n",
    "selector {\n",
    " property1: value1;\n",
    " property2: value2;\n",
    " property3: value3;\n",
    "}\n",
    "```\n",
    "\n",
    "A set of opening and closing curly braces follow the selector. Within the curly braces are the property-value pairs with a colon separating the property and value. A semicolon ends each property-value pair.\n",
    "\n",
    "## CSS properties\n",
    "\n",
    "There are a huge number of CSS properties available. [Visit this page][1] from Tutorial Republic to see them broken into categories (background, border, font, etc...). To help narrow the list, I've created the following table with some of the most common properties and common values. The list of values below is incomplete. Click the link to take you to the MDN reference page for a complete description."
   ]
  },
  {
   "cell_type": "markdown",
   "metadata": {
    "tags": [
     "css_props"
    ]
   },
   "source": [
    "    \n",
    " Property | Values | Notes\n",
    ":--------|:----|:----\n",
    "[`color`][2] | One of ~140 [color names][3] | Sets text color. Could have been named `text-color`\n",
    "[`text-align`][10] | left, right, center, justify | Horizontal alignment\n",
    "[`vertical-align`][11] | baseline, top, middle, bottom | Vertical alignment\n",
    "[`font-family`][4] | Helvetica, Arial, sans-serif | List of font families separated by a comma\n",
    "[`font-size`][5] | 20px | Size of font. Many units of measurements + absolute/relative sizes\n",
    "[`font-weight`][5] | bold | Boldness of font. Can use a number 1-1000\n",
    "[`background-color`][7] | One of ~140 [color names][3] | Sets background color of element\n",
    "[`border`][8] | 1px dashed red | Sets three properties at once - border width, style, and color\n",
    "[`margin`][9] | 20px | Sets the margin size of all four sides of the element\n",
    "[`height`][12]/[`width`][13] | 500px | Sets the element's height/width\n",
    "[`max-height`][14]/[`max-width`][15] | 300px | Sets the max height/width\n",
    "[`min-height`][16]/[`min-width`][17] | 100px | Sets the min height/width \n",
    "[`display`][18] | inline, block, flex, grid | Controls the layout of the container\n",
    "\n",
    "[1]: https://www.tutorialrepublic.com/css-reference/css3-properties.php\n",
    "[2]: https://developer.mozilla.org/en-US/docs/Web/CSS/color\n",
    "[3]: https://developer.mozilla.org/en-US/docs/Web/CSS/color_value#Syntax\n",
    "[4]: https://developer.mozilla.org/en-US/docs/Web/CSS/font-family\n",
    "[5]: https://developer.mozilla.org/en-US/docs/Web/CSS/font-size\n",
    "[6]: https://developer.mozilla.org/en-US/docs/Web/CSS/font-weight\n",
    "[7]: https://developer.mozilla.org/en-US/docs/Web/CSS/background-color\n",
    "[8]: https://developer.mozilla.org/en-US/docs/Web/CSS/border\n",
    "[9]: https://developer.mozilla.org/en-US/docs/Web/CSS/margin\n",
    "[10]: https://developer.mozilla.org/en-US/docs/Web/CSS/text-align\n",
    "[11]: https://developer.mozilla.org/en-US/docs/Web/CSS/vertical-align\n",
    "[12]: https://developer.mozilla.org/en-US/docs/Web/CSS/height\n",
    "[13]: https://developer.mozilla.org/en-US/docs/Web/CSS/width\n",
    "[14]: https://developer.mozilla.org/en-US/docs/Web/CSS/max-width\n",
    "[15]: https://developer.mozilla.org/en-US/docs/Web/CSS/max-height\n",
    "[16]: https://developer.mozilla.org/en-US/docs/Web/CSS/min-width\n",
    "[17]: https://developer.mozilla.org/en-US/docs/Web/CSS/min-height\n",
    "[18]: https://developer.mozilla.org/en-US/docs/Web/CSS/display"
   ]
  },
  {
   "cell_type": "markdown",
   "metadata": {},
   "source": [
    "## Applying CSS using tags as selectors\n",
    "\n",
    "The simplest selector is just the name of a tag (`h1`, `p`, `div`, `a`, etc...) without the angle brackets. We'll begin by creating one header and one paragraph element without any CSS styling."
   ]
  },
  {
   "cell_type": "code",
   "execution_count": null,
   "metadata": {
    "scrolled": true,
    "tags": [
     "html8"
    ]
   },
   "outputs": [],
   "source": [
    "%%html --isolated\n",
    "\n",
    "<h2>Beginning CSS</h2>\n",
    "<p>Here is some text in a paragraph element</p>"
   ]
  },
  {
   "cell_type": "markdown",
   "metadata": {},
   "source": [
    "### Adding the style\n",
    "\n",
    "The same two elements will now be styled. Below, we create one rule for each element using the tag name as the selector. We set many properties of the paragraph, while only adding a border to the header. The `px` is one of the [several types of units][1] that CSS understands and represents pixels, where 1px is 1/96th of an inch.\n",
    "\n",
    "[1]: https://developer.mozilla.org/en-US/docs/Web/CSS/CSS_Values_and_Units"
   ]
  },
  {
   "cell_type": "code",
   "execution_count": null,
   "metadata": {
    "tags": [
     "html9"
    ]
   },
   "outputs": [],
   "source": [
    "%%html --isolated\n",
    "\n",
    "<style>\n",
    "h2 {\n",
    "    border: 4px red dashed;\n",
    "}\n",
    "\n",
    "p {\n",
    "    color: darkgreen;\n",
    "    font-family: Helvetica;\n",
    "    font-size: 20px;\n",
    "    font-weight: 800;\n",
    "    height: 90px;\n",
    "    text-align: center;\n",
    "    border: 4px dashed red;\n",
    "    background-color: tan;\n",
    "}\n",
    "</style>\n",
    "\n",
    "<h2>Beginning CSS</h2>\n",
    "<p>Here is some text in a paragraph element</p>"
   ]
  },
  {
   "cell_type": "markdown",
   "metadata": {},
   "source": [
    "### Element borders\n",
    "\n",
    "I think it's helpful to show the borders of elements to visually see the extent of each one. You should clearly see that the width of each element stretches the entire width of the screen (or in this case, the parent, which is the notebook cell). They stretch the entire width of their parent because they are block elements. \n",
    "\n",
    "Also notice that there is some vertical space between the two elements. They aren't stacked directly on top of one another. Almost all block elements have some default value for their top and bottom **margin**. We can eliminate this margin by setting it to 0px."
   ]
  },
  {
   "cell_type": "code",
   "execution_count": null,
   "metadata": {
    "tags": [
     "html10"
    ]
   },
   "outputs": [],
   "source": [
    "%%html --isolated\n",
    "\n",
    "<style>\n",
    "h2 {\n",
    "    border: 4px red dashed;\n",
    "    margin: 0px;\n",
    "}\n",
    "\n",
    "p {\n",
    "    color: darkgreen;\n",
    "    font-family: Helvetica;\n",
    "    font-size: 20px;\n",
    "    font-weight: 800;\n",
    "    height: 90px;\n",
    "    text-align: center;\n",
    "    border: 4px dashed red;\n",
    "    background-color: tan;\n",
    "    margin: 0px;\n",
    "}\n",
    "</style>\n",
    "\n",
    "<h2>Beginning CSS</h2>\n",
    "<p>Here is some text in a paragraph element</p>"
   ]
  },
  {
   "cell_type": "markdown",
   "metadata": {},
   "source": [
    "## Shorthand property names\n",
    "\n",
    "Both `margin` and `border` (as well as several others) are **shorthand** property names, meaning that they allow you to set multiple CSS properties at once. For instance, `margin` is shorthand for the following properties:\n",
    "\n",
    "* `margin-top`\n",
    "* `margin-right`\n",
    "* `margin-bottom`\n",
    "* `margin-left`\n",
    "\n",
    "Setting `margin` to a single value, sets all four properties to that value. You can also give it four separate values, e.g. `margin: 10px 30px 0px 5px;`\n",
    "\n",
    "Similarly, `border` is shorthand for:\n",
    "\n",
    "* `border-width` - 4px\n",
    "* `border-style` - dashed, solid, dotted\n",
    "* `border-color` - same as `color`"
   ]
  },
  {
   "cell_type": "markdown",
   "metadata": {},
   "source": [
    "## Changing block to inline\n",
    "\n",
    "By default, these elements are both block-level. We can change this by setting the `display` property to `inline`.   Below, the paragraph is kept as a block element so remains on its own line."
   ]
  },
  {
   "cell_type": "code",
   "execution_count": null,
   "metadata": {
    "tags": [
     "html11"
    ]
   },
   "outputs": [],
   "source": [
    "%%html --isolated\n",
    "\n",
    "<style>\n",
    "h2 {\n",
    "    border: 4px red dashed;\n",
    "    display: inline;\n",
    "}\n",
    "\n",
    "p {\n",
    "    color: darkgreen;\n",
    "    font-family: Helvetica;\n",
    "    font-size: 20px;\n",
    "    font-weight: 800;\n",
    "    height: 90px;\n",
    "    text-align: center;\n",
    "    border: 4px dashed red;\n",
    "    background-color: tan;\n",
    "}\n",
    "</style>\n",
    "\n",
    "<h2>Beginning CSS</h2>\n",
    "<p>Here is some text in a paragraph element</p>"
   ]
  },
  {
   "cell_type": "markdown",
   "metadata": {},
   "source": [
    "Making both elements inline moves the paragraph up to the same line as the header. The height property is ignored for inline elements."
   ]
  },
  {
   "cell_type": "code",
   "execution_count": null,
   "metadata": {
    "tags": [
     "html12"
    ]
   },
   "outputs": [],
   "source": [
    "%%html --isolated\n",
    "\n",
    "<style>\n",
    "h2 {\n",
    "    border: 4px dashed red;\n",
    "    display: inline;\n",
    "}\n",
    "\n",
    "p {\n",
    "    color: darkgreen;\n",
    "    font-family: Helvetica;\n",
    "    font-size: 20px;\n",
    "    font-weight: 800;\n",
    "    height: 90px;\n",
    "    text-align: center;\n",
    "    border: 4px dashed red;\n",
    "    background-color: tan;\n",
    "    display: inline;\n",
    "}\n",
    "\n",
    "</style>\n",
    "\n",
    "<h2>Beginning CSS</h2>\n",
    "<p>Here is some text in a paragraph element</p>"
   ]
  },
  {
   "cell_type": "markdown",
   "metadata": {},
   "source": [
    "Here, we add an anchor link nested within the paragraph tag. Anchor links have a default display of inline, which we change to block. This has the affect of placing it on its own line. Notice that the text properties for the anchor element inherit from its parent."
   ]
  },
  {
   "cell_type": "code",
   "execution_count": null,
   "metadata": {
    "tags": [
     "html13"
    ]
   },
   "outputs": [],
   "source": [
    "%%html --isolated\n",
    "\n",
    "<style>\n",
    "h2 {\n",
    "    border: 4px red dashed;\n",
    "}\n",
    "\n",
    "p {\n",
    "    color: darkgreen;\n",
    "    font-family: Helvetica;\n",
    "    font-size: 20px;\n",
    "    font-weight: 800;\n",
    "    height: 90px;\n",
    "    text-align: center;\n",
    "    border: 4px dashed red;\n",
    "    background-color: tan;\n",
    "    display: inline;\n",
    "}\n",
    "\n",
    "a {\n",
    "    display: block;\n",
    "}\n",
    "\n",
    "</style>\n",
    "\n",
    "<h2>Beginning CSS</h2>\n",
    "<p>Text <a href=\"http://google.com\" target=\"_blank\">with google link</a> in a paragraph element</p>"
   ]
  },
  {
   "cell_type": "markdown",
   "metadata": {},
   "source": [
    "## Selecting elements by class and id\n",
    "\n",
    "Selecting elements by their tag name is often too broad for most web pages as it targets too many elements. More often, you'll select elements by their class or id. Both class and id are global HTML attributes. They both provide a way to label elements so that they can be referenced later. The class name is used to label one or more elements, while id is used to label a single element and therefore should be unique.\n",
    "\n",
    "### Selectors - Use `.` for class and `#` for id\n",
    "\n",
    "In the stylesheet, the selector must be preceded by a period for classes and a hash sign for ids. Our dashboard uses classes and ids for nearly all selectors.\n",
    "\n",
    "Here, we create three paragraph elements and use the `p` selector to share several of the same properties amongst them. The top two paragraphs are labeled with the class name `large`. The unique id `center_small` is given to the bottom one. Note the coloring of the syntax below makes it appear that `#center_small` is commented out. Unfortunately, the notebook treats it as python code, for which the `#` is used for comments."
   ]
  },
  {
   "cell_type": "code",
   "execution_count": null,
   "metadata": {
    "tags": [
     "html14"
    ]
   },
   "outputs": [],
   "source": [
    "%%html --isolated\n",
    "\n",
    "<style>\n",
    "p {\n",
    "    border: 2px dashed red;\n",
    "    color: darkgreen;\n",
    "    font-family: Helvetica;\n",
    "    background-color: tan;\n",
    "    width: 500px;\n",
    "}\n",
    "\n",
    ".large {\n",
    "    font-size: 20px;\n",
    "}\n",
    "\n",
    "#center_small {\n",
    "    text-align: center;\n",
    "    font-size: x-small;\n",
    "}\n",
    "</style>\n",
    "\n",
    "<p class=\"large\">Paragraph 1</p>\n",
    "<p class=\"large\">Paragraph 2</p>\n",
    "<p id=\"center_small\">Here is some text in a paragraph element</p>"
   ]
  },
  {
   "cell_type": "markdown",
   "metadata": {},
   "source": [
    "## Page layout with Flexbox and Grid\n",
    "\n",
    "As you can see, the `display` property is important for changing the position of elements on the page. The position of all the elements of a page will be referred to as the **layout**. In modern CSS, **flexbox** and **grid** are two good choices to lay out all of the elements in a page. They are easier to work with and more powerful than their predecessors.\n",
    "\n",
    "### Boxes - Containers and Items\n",
    "\n",
    "It's often best to think of each element of your web page as a rectangular box. Both flexbox and grid will help you arrange these rectangular boxes on the screen. There are usually two kinds of boxes, the **container** and the **items**. The container, usually a single `<div>`, contains several **items** (any other element including divs). \n",
    "\n",
    "Below, we create one container div (the parent) and three item divs (the children). Since divs are block-level elements, they are each displayed on a separate line. Each item div has a single paragraph element with text labeling the item. The container div is the outer div and not labeled. \n",
    "\n",
    "Each item is given a class and id so that styles can be applied to each of them simultaneously and individually. We use the id selector to color the background of each individually, and the class name to provide the same margin (20px) to all of them. All divs have a black dashed border so that you can see their outer rectangular boundary. "
   ]
  },
  {
   "cell_type": "code",
   "execution_count": null,
   "metadata": {
    "tags": [
     "html15"
    ]
   },
   "outputs": [],
   "source": [
    "%%html --isolated\n",
    "\n",
    "<style>\n",
    "    div {\n",
    "        border: 4px black dashed;\n",
    "    }\n",
    "    \n",
    "    p {\n",
    "        text-align: center;\n",
    "    }\n",
    "    \n",
    "    .container {\n",
    "        width: 500px;   \n",
    "    }\n",
    "\n",
    "    .item {\n",
    "        margin: 20px;\n",
    "    }\n",
    "    \n",
    "    #item1 {\n",
    "        background-color: #4C78A8;\n",
    "    }\n",
    "    \n",
    "    #item2 {\n",
    "        background-color: #F58518;\n",
    "    }\n",
    "    \n",
    "    #item3 {\n",
    "        background-color: #E45756;\n",
    "    }\n",
    "</style>\n",
    "\n",
    "<div class=\"container\">\n",
    "    <div class=\"item\" id=\"item1\">\n",
    "        <p>item 1</p>\n",
    "    </div>\n",
    "    <div class=\"item\" id=\"item2\">\n",
    "        <p>item 2</p>\n",
    "    </div>\n",
    "    <div class=\"item\" id=\"item3\">\n",
    "        <p>item 3</p>\n",
    "    </div>\n",
    "</div>"
   ]
  },
  {
   "cell_type": "markdown",
   "metadata": {},
   "source": [
    "## CSS Flexbox layout\n",
    "\n",
    "Flexbox is a **one-dimensional** layout system for placing items either horizontally or vertically. Only a portion of the flexbox features will be covered here. Visit the [MDN documentation for a full tutorial][1]. Flexbox's default layout is **horizontal**. To get started, set `display: flex` for the **container**. We do that below, and remove the margin so that you can see exactly how flexbox places the items.\n",
    "\n",
    "[1]: https://developer.mozilla.org/en-US/docs/Learn/CSS/CSS_layout/Flexbox"
   ]
  },
  {
   "cell_type": "code",
   "execution_count": null,
   "metadata": {
    "tags": [
     "html16"
    ]
   },
   "outputs": [],
   "source": [
    "%%html --isolated\n",
    "\n",
    "<style>\n",
    "    div {\n",
    "        border: 4px black dashed;\n",
    "    }\n",
    "    \n",
    "    p {\n",
    "        text-align: center;\n",
    "    }\n",
    "    \n",
    "    .container {\n",
    "        width: 500px;\n",
    "        display: flex;\n",
    "    }\n",
    "    \n",
    "    #item1 {\n",
    "        background-color: #4C78A8;\n",
    "    }\n",
    "    \n",
    "    #item2 {\n",
    "        background-color: #F58518;\n",
    "    }\n",
    "    \n",
    "    #item3 {\n",
    "        background-color: #E45756;\n",
    "    }\n",
    "</style>\n",
    "\n",
    "<div class=\"container\">\n",
    "    <div class=\"item\" id=\"item1\">\n",
    "        <p>item 1</p>\n",
    "    </div>\n",
    "    <div class=\"item\" id=\"item2\">\n",
    "        <p>item 2</p>\n",
    "    </div>\n",
    "    <div class=\"item\" id=\"item3\">\n",
    "        <p>item 3</p>\n",
    "    </div>\n",
    "</div>"
   ]
  },
  {
   "cell_type": "markdown",
   "metadata": {},
   "source": [
    "With one small change, we get our items in a single row and they no longer stretch the entire width of their parent. You'll often use the `justify-content` property of the container to space the items to your liking. Here, we set it to the value `space-evenly` to space the items evenly in the container."
   ]
  },
  {
   "cell_type": "code",
   "execution_count": null,
   "metadata": {
    "tags": [
     "html17"
    ]
   },
   "outputs": [],
   "source": [
    "%%html --isolated\n",
    "\n",
    "<style>\n",
    "    div {\n",
    "        border: 4px black dashed;\n",
    "    }\n",
    "    \n",
    "    p {\n",
    "        text-align: center;\n",
    "    }\n",
    "    \n",
    "    .container {\n",
    "        width: 500px;\n",
    "        display: flex;\n",
    "        justify-content: space-evenly;\n",
    "    }\n",
    "    \n",
    "    #item1 {\n",
    "        background-color: #4C78A8;\n",
    "    }\n",
    "    \n",
    "    #item2 {\n",
    "        background-color: #F58518;\n",
    "    }\n",
    "    \n",
    "    #item3 {\n",
    "        background-color: #E45756;\n",
    "    }\n",
    "</style>\n",
    "\n",
    "<div class=\"container\">\n",
    "    <div class=\"item\" id=\"item1\">\n",
    "        <p>item 1</p>\n",
    "    </div>\n",
    "    <div class=\"item\" id=\"item2\">\n",
    "        <p>item 2</p>\n",
    "    </div>\n",
    "    <div class=\"item\" id=\"item3\">\n",
    "        <p>item 3</p>\n",
    "    </div>\n",
    "</div>"
   ]
  },
  {
   "cell_type": "markdown",
   "metadata": {},
   "source": [
    "By default, items will only take up as much space as their content. Use `flex-grow` as an **item** property (not a container property) to have a specific item fill the empty space. This value is 0 by default. The value of 1 represents 100% of the remaining space. Below, we have item1 and item2 fill up 30% and 50% of the remaining space, with item3 remaining at its original size."
   ]
  },
  {
   "cell_type": "code",
   "execution_count": null,
   "metadata": {
    "tags": [
     "html18"
    ]
   },
   "outputs": [],
   "source": [
    "%%html --isolated\n",
    "\n",
    "<style>\n",
    "    div {\n",
    "        border: 4px black dashed;\n",
    "    }\n",
    "    \n",
    "    p {\n",
    "        text-align: center;\n",
    "    }\n",
    "    \n",
    "    .container {\n",
    "        width: 500px;\n",
    "        display: flex;\n",
    "        justify-content: space-evenly;\n",
    "    }\n",
    "    \n",
    "    #item1 {\n",
    "        background-color: #4C78A8;\n",
    "        flex-grow: .3;\n",
    "    }\n",
    "    \n",
    "    #item2 {\n",
    "        background-color: #F58518;\n",
    "        flex-grow: .5;\n",
    "    }\n",
    "    \n",
    "    #item3 {\n",
    "        background-color: #E45756;\n",
    "    }\n",
    "</style>\n",
    "\n",
    "<div class=\"container\">\n",
    "    <div class=\"item\" id=\"item1\">\n",
    "        <p>item 1</p>\n",
    "    </div>\n",
    "    <div class=\"item\" id=\"item2\">\n",
    "        <p>item 2</p>\n",
    "    </div>\n",
    "    <div class=\"item\" id=\"item3\">\n",
    "        <p>item 3</p>\n",
    "    </div>\n",
    "</div>"
   ]
  },
  {
   "cell_type": "markdown",
   "metadata": {},
   "source": [
    "### Flexbox summary\n",
    "\n",
    "* Container\n",
    "    * Use `display: flex`\n",
    "    * Default layout is horizontal. Use `flex-direction: column` to switch\n",
    "    * Use `justify-content` with possible values `flex-start`, `flex-end`, `space-around`, `space-evenly`, `space-between`\n",
    "    * Wrap items onto new lines with `flex-wrap: wrap`\n",
    "* Item\n",
    "    * Expand individual items with `flex-grow` setting it to a number, where 1 represents 100% of the available free space.\n"
   ]
  },
  {
   "cell_type": "markdown",
   "metadata": {},
   "source": [
    "## CSS Grid layout\n",
    "\n",
    "The grid layout is similar to flexbox, but is used for **two-dimensional** layouts with rows and columns. There are a variety of ways to create the rows and columns, but only the method using `grid-template-areas` will be shown. Use the [MDN documentation for a full tutorial][1] of all the features. Using the grid layout is a bit more work than flexbox, but often is a good choice when you have many elements across and down your page.\n",
    "\n",
    "### Grid syntax using `grid-template-areas`\n",
    "\n",
    "The outer **container** must have its display property set to `grid`. The property `grid-template-areas` defines the grid using names for each cell of the grid. In the example below, a grid with 3 rows and 4 columns is created. Names can be any string of non-space characters and separated from one another by a space. Each row of the grid must be enclosed in quotes.\n",
    "\n",
    "Below, we use single characters as names for each of the 12 cells. Each **item** is then assigned to one cell with the `grid-area` property. The element with id equal to item1 is assigned to grid area `a`, with item2 assigned to `g`.\n",
    "\n",
    "```css\n",
    "\n",
    ".container {\n",
    "        display: grid;\n",
    "        grid-template-areas:\n",
    "            \"a b c d\"\n",
    "            \"e f g h\"\n",
    "            \"i j k l\";\n",
    "}\n",
    "\n",
    "#item1 {\n",
    "        grid-area: a;\n",
    "}\n",
    "\n",
    "#item2 {\n",
    "        grid-area: g;\n",
    "}\n",
    "\n",
    "```\n",
    "\n",
    "[1]: https://developer.mozilla.org/en-US/docs/Web/CSS/CSS_Grid_Layout"
   ]
  },
  {
   "cell_type": "markdown",
   "metadata": {},
   "source": [
    "Continuing with our previous example with three items, we create a grid with two rows and four columns and use more descriptive names for each of the areas. Multiple grid areas can have the same name, allowing one item to take the space of multiple cells. The div with id equal to item3 is assigned the grid area `bottom` which labels the two middle cells on the bottom row. The grid areas with labels `left` and `right` have no items assigned to them."
   ]
  },
  {
   "cell_type": "code",
   "execution_count": null,
   "metadata": {
    "tags": [
     "html19"
    ]
   },
   "outputs": [],
   "source": [
    "%%html --isolated\n",
    "\n",
    "<style>\n",
    "    div {\n",
    "        border: 4px black dashed;\n",
    "    }\n",
    "    \n",
    "    p {\n",
    "        text-align: center;\n",
    "    }\n",
    "    \n",
    "    .container {\n",
    "        width: 500px;\n",
    "        display: grid;\n",
    "        grid-template-areas:\n",
    "            \"left topleft topright right\"\n",
    "            \"left bottom  bottom   right\";\n",
    "    }\n",
    "    \n",
    "    #item1 {\n",
    "        background-color: #4C78A8;\n",
    "        grid-area: topleft;\n",
    "    }\n",
    "    \n",
    "    #item2 {\n",
    "        background-color: #F58518;\n",
    "        grid-area: topright;\n",
    "    }\n",
    "    \n",
    "    #item3 {\n",
    "        background-color: #E45756;\n",
    "        grid-area: bottom;\n",
    "    }\n",
    "</style>\n",
    "\n",
    "<div class=\"container\">\n",
    "    <div class=\"item\" id=\"item1\">\n",
    "        <p>item 1</p>\n",
    "    </div>\n",
    "    <div class=\"item\" id=\"item2\">\n",
    "        <p>item 2</p>\n",
    "    </div>\n",
    "    <div class=\"item\" id=\"item3\">\n",
    "        <p>item 3</p>\n",
    "    </div>\n",
    "</div>"
   ]
  },
  {
   "cell_type": "markdown",
   "metadata": {},
   "source": [
    "### Sizing grid cells\n",
    "\n",
    "By default, all cells have the same width with elements expanding to that width. We use `grid-template-columns` to specify the width of each column and set it to be four separate values. The outer columns are set to 30 pixels each. The unit `fr` is similar to `flex-grow` and represents the proportion of free space remaining. In this case, it represents the 440 pixels (500 - 2 * 30) remaining. The length `1fr` equals this amount. Below, we use `2fr` and `3fr` for the top two items, which splits the free space proportionally between them."
   ]
  },
  {
   "cell_type": "code",
   "execution_count": null,
   "metadata": {
    "tags": [
     "html20"
    ]
   },
   "outputs": [],
   "source": [
    "%%html --isolated\n",
    "\n",
    "<style>\n",
    "    div {\n",
    "        border: 4px black dashed;\n",
    "    }\n",
    "    \n",
    "    p {\n",
    "        text-align: center;\n",
    "    }\n",
    "    \n",
    "    .container {\n",
    "        width: 500px;\n",
    "        display: grid;\n",
    "        grid-template-areas:\n",
    "            \"left topleft topright right\"\n",
    "            \"left bottom  bottom   right\";\n",
    "        grid-template-columns: 30px 3fr 2fr 30px;\n",
    "    }\n",
    "    \n",
    "    #item1 {\n",
    "        background-color: #4C78A8;\n",
    "        grid-area: topleft;\n",
    "    }\n",
    "    \n",
    "    #item2 {\n",
    "        background-color: #F58518;\n",
    "        grid-area: topright;\n",
    "    }\n",
    "    \n",
    "    #item3 {\n",
    "        background-color: #E45756;\n",
    "        grid-area: bottom;\n",
    "    }\n",
    "</style>\n",
    "\n",
    "<div class=\"container\">\n",
    "    <div class=\"item\" id=\"item1\">\n",
    "        <p>item 1</p>\n",
    "    </div>\n",
    "    <div class=\"item\" id=\"item2\">\n",
    "        <p>item 2</p>\n",
    "    </div>\n",
    "    <div class=\"item\" id=\"item3\">\n",
    "        <p>item 3</p>\n",
    "    </div>\n",
    "</div>"
   ]
  },
  {
   "cell_type": "markdown",
   "metadata": {},
   "source": [
    "### CSS Grid Summary\n",
    "\n",
    "* Container\n",
    "    * Use `display: grid`\n",
    "    * Create grid and name all cells with `grid-template-areas`\n",
    "    * Set column width with `grid-template-columns`\n",
    "        * Can use `fr` unit for free space\n",
    "    * Set row height with `grid-template-rows`\n",
    "* Item\n",
    "    * Use `grid-area` to assign an element to a grid cell"
   ]
  },
  {
   "cell_type": "markdown",
   "metadata": {},
   "source": [
    "## Much more to HTML and CSS\n",
    "\n",
    "This chapter provides the essentials for building simple web pages with HTML and CSS. Many topics were omitted to keep the focus on the components that make an appearance in our dashboard."
   ]
  }
 ],
 "metadata": {
  "kernelspec": {
   "display_name": "Python 3 (ipykernel)",
   "language": "python",
   "name": "python3"
  },
  "language_info": {
   "codemirror_mode": {
    "name": "ipython",
    "version": 3
   },
   "file_extension": ".py",
   "mimetype": "text/x-python",
   "name": "python",
   "nbconvert_exporter": "python",
   "pygments_lexer": "ipython3",
   "version": "3.8.11"
  }
 },
 "nbformat": 4,
 "nbformat_minor": 4
}
